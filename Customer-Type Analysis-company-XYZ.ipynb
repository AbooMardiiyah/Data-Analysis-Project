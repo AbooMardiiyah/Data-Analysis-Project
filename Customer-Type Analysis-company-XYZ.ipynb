{
 "cells": [
  {
   "cell_type": "markdown",
   "metadata": {},
   "source": [
    "# Analyze Supermarket Data Across the Country - Company XYZ\n",
    "\n",
    "Company XYZ owns a supermarket chain across the country. Each major branch located in 3 cities across the country recorded sales information for 3 months, to help the company understand sales trends and determine its growth, as the rise of supermarkets competition is seen."
   ]
  },
  {
   "cell_type": "markdown",
   "metadata": {},
   "source": [
    "You will apply learnings to analyse the dataset in the data folder, and the description of each feature can be found in this [link](https://docs.google.com/document/d/1Sv-DlynHpOBAs5qKokn5MtbzqZcumTSlSI4-wQ0kf0w/edit?usp=sharing)"
   ]
  },
  {
   "cell_type": "markdown",
   "metadata": {},
   "source": [
    "## Step 1 - Loading the Dataset\n",
    "In this step, you will combine the dataset from each branch (3 branches) into one dataset for easy analysis. You expected to write the syntaxes that will read multiple files from your current working directory and export a CSV file after combining. \n",
    "The learning from this step is the ability to automate reading and combining multiple CSV files, because as a Data Professional, you will saddled with the responsibility of reading data from different sources, and this is one of the use case."
   ]
  },
  {
   "cell_type": "markdown",
   "metadata": {},
   "source": [
    "#### To-Do - Import Libraries"
   ]
  },
  {
   "cell_type": "code",
   "execution_count": 1,
   "metadata": {},
   "outputs": [],
   "source": [
    "import os\n",
    "import glob\n",
    "import pandas as pd\n",
    "#os.chdir(\"/mydir\") #Current working directory that contains your dataset and code file\n",
    "dir=\"./\""
   ]
  },
  {
   "cell_type": "markdown",
   "metadata": {},
   "source": [
    "#### To-Do - Use glob to match the pattern \"csv\""
   ]
  },
  {
   "cell_type": "code",
   "execution_count": 2,
   "metadata": {},
   "outputs": [],
   "source": [
    "extension = 'csv'\n",
    "extension='csv'\n",
    "csv_files=[]\n",
    "for each_file in glob.iglob(dir +\"/*.\"+extension,recursive=True):\n",
    "    csv_files.append(each_file)"
   ]
  },
  {
   "cell_type": "markdown",
   "metadata": {},
   "source": [
    "#### To-Do - Combine all the files in the generated list above and export to a CSV\n",
    "Tips - Use the `pd.concat` method"
   ]
  },
  {
   "cell_type": "code",
   "execution_count": 3,
   "metadata": {},
   "outputs": [],
   "source": [
    "li=[]\n",
    "for filename in csv_files:\n",
    "    df=pd.read_csv(filename,index_col=None,header=0)\n",
    "    li.append(df)\n",
    "    \n",
    "    combined_file=pd.concat(li,axis=0,ignore_index=True)"
   ]
  },
  {
   "cell_type": "markdown",
   "metadata": {},
   "source": [
    "#### To-Do -Read the CSV file using `pd.read_csv` method"
   ]
  },
  {
   "cell_type": "code",
   "execution_count": 4,
   "metadata": {},
   "outputs": [
    {
     "data": {
      "text/html": [
       "<div>\n",
       "<style scoped>\n",
       "    .dataframe tbody tr th:only-of-type {\n",
       "        vertical-align: middle;\n",
       "    }\n",
       "\n",
       "    .dataframe tbody tr th {\n",
       "        vertical-align: top;\n",
       "    }\n",
       "\n",
       "    .dataframe thead th {\n",
       "        text-align: right;\n",
       "    }\n",
       "</style>\n",
       "<table border=\"1\" class=\"dataframe\">\n",
       "  <thead>\n",
       "    <tr style=\"text-align: right;\">\n",
       "      <th></th>\n",
       "      <th>Invoice ID</th>\n",
       "      <th>Branch</th>\n",
       "      <th>City</th>\n",
       "      <th>Customer type</th>\n",
       "      <th>Gender</th>\n",
       "      <th>Product line</th>\n",
       "      <th>Unit price</th>\n",
       "      <th>Quantity</th>\n",
       "      <th>Tax 5%</th>\n",
       "      <th>Total</th>\n",
       "      <th>Date</th>\n",
       "      <th>Time</th>\n",
       "      <th>Payment</th>\n",
       "      <th>cogs</th>\n",
       "      <th>gross margin percentage</th>\n",
       "      <th>gross income</th>\n",
       "      <th>Rating</th>\n",
       "    </tr>\n",
       "  </thead>\n",
       "  <tbody>\n",
       "    <tr>\n",
       "      <td>0</td>\n",
       "      <td>692-92-5582</td>\n",
       "      <td>B</td>\n",
       "      <td>Abuja</td>\n",
       "      <td>Member</td>\n",
       "      <td>Female</td>\n",
       "      <td>Food and beverages</td>\n",
       "      <td>19742.4</td>\n",
       "      <td>3</td>\n",
       "      <td>2961.36</td>\n",
       "      <td>62188.56</td>\n",
       "      <td>2/20/2019</td>\n",
       "      <td>13:27</td>\n",
       "      <td>Card</td>\n",
       "      <td>59227.2</td>\n",
       "      <td>4.761905</td>\n",
       "      <td>2961.36</td>\n",
       "      <td>5.9</td>\n",
       "    </tr>\n",
       "    <tr>\n",
       "      <td>1</td>\n",
       "      <td>351-62-0822</td>\n",
       "      <td>B</td>\n",
       "      <td>Abuja</td>\n",
       "      <td>Member</td>\n",
       "      <td>Female</td>\n",
       "      <td>Fashion accessories</td>\n",
       "      <td>5212.8</td>\n",
       "      <td>4</td>\n",
       "      <td>1042.56</td>\n",
       "      <td>21893.76</td>\n",
       "      <td>2/6/2019</td>\n",
       "      <td>18:07</td>\n",
       "      <td>Epay</td>\n",
       "      <td>20851.2</td>\n",
       "      <td>4.761905</td>\n",
       "      <td>1042.56</td>\n",
       "      <td>4.5</td>\n",
       "    </tr>\n",
       "    <tr>\n",
       "      <td>2</td>\n",
       "      <td>529-56-3974</td>\n",
       "      <td>B</td>\n",
       "      <td>Abuja</td>\n",
       "      <td>Member</td>\n",
       "      <td>Male</td>\n",
       "      <td>Electronic accessories</td>\n",
       "      <td>9183.6</td>\n",
       "      <td>4</td>\n",
       "      <td>1836.72</td>\n",
       "      <td>38571.12</td>\n",
       "      <td>3/9/2019</td>\n",
       "      <td>17:03</td>\n",
       "      <td>Cash</td>\n",
       "      <td>36734.4</td>\n",
       "      <td>4.761905</td>\n",
       "      <td>1836.72</td>\n",
       "      <td>6.8</td>\n",
       "    </tr>\n",
       "    <tr>\n",
       "      <td>3</td>\n",
       "      <td>299-46-1805</td>\n",
       "      <td>B</td>\n",
       "      <td>Abuja</td>\n",
       "      <td>Member</td>\n",
       "      <td>Female</td>\n",
       "      <td>Sports and travel</td>\n",
       "      <td>33739.2</td>\n",
       "      <td>6</td>\n",
       "      <td>10121.76</td>\n",
       "      <td>212556.96</td>\n",
       "      <td>1/15/2019</td>\n",
       "      <td>16:19</td>\n",
       "      <td>Cash</td>\n",
       "      <td>202435.2</td>\n",
       "      <td>4.761905</td>\n",
       "      <td>10121.76</td>\n",
       "      <td>4.5</td>\n",
       "    </tr>\n",
       "    <tr>\n",
       "      <td>4</td>\n",
       "      <td>319-50-3348</td>\n",
       "      <td>B</td>\n",
       "      <td>Abuja</td>\n",
       "      <td>Normal</td>\n",
       "      <td>Female</td>\n",
       "      <td>Home and lifestyle</td>\n",
       "      <td>14508.0</td>\n",
       "      <td>2</td>\n",
       "      <td>1450.80</td>\n",
       "      <td>30466.80</td>\n",
       "      <td>3/11/2019</td>\n",
       "      <td>15:30</td>\n",
       "      <td>Epay</td>\n",
       "      <td>29016.0</td>\n",
       "      <td>4.761905</td>\n",
       "      <td>1450.80</td>\n",
       "      <td>4.4</td>\n",
       "    </tr>\n",
       "  </tbody>\n",
       "</table>\n",
       "</div>"
      ],
      "text/plain": [
       "    Invoice ID Branch   City Customer type  Gender            Product line  \\\n",
       "0  692-92-5582      B  Abuja        Member  Female      Food and beverages   \n",
       "1  351-62-0822      B  Abuja        Member  Female     Fashion accessories   \n",
       "2  529-56-3974      B  Abuja        Member    Male  Electronic accessories   \n",
       "3  299-46-1805      B  Abuja        Member  Female       Sports and travel   \n",
       "4  319-50-3348      B  Abuja        Normal  Female      Home and lifestyle   \n",
       "\n",
       "   Unit price  Quantity    Tax 5%      Total       Date   Time Payment  \\\n",
       "0     19742.4         3   2961.36   62188.56  2/20/2019  13:27    Card   \n",
       "1      5212.8         4   1042.56   21893.76   2/6/2019  18:07    Epay   \n",
       "2      9183.6         4   1836.72   38571.12   3/9/2019  17:03    Cash   \n",
       "3     33739.2         6  10121.76  212556.96  1/15/2019  16:19    Cash   \n",
       "4     14508.0         2   1450.80   30466.80  3/11/2019  15:30    Epay   \n",
       "\n",
       "       cogs  gross margin percentage  gross income  Rating  \n",
       "0   59227.2                 4.761905       2961.36     5.9  \n",
       "1   20851.2                 4.761905       1042.56     4.5  \n",
       "2   36734.4                 4.761905       1836.72     6.8  \n",
       "3  202435.2                 4.761905      10121.76     4.5  \n",
       "4   29016.0                 4.761905       1450.80     4.4  "
      ]
     },
     "execution_count": 4,
     "metadata": {},
     "output_type": "execute_result"
    }
   ],
   "source": [
    "combined_file.head()"
   ]
  },
  {
   "cell_type": "markdown",
   "metadata": {},
   "source": [
    "## Step 2 - Data Exploration\n",
    "In this step you will explore the loaded dataset using some built-in Pandas function. You expected to begin to think about your analytical approach from here. \n",
    "You can include other methods that you might think will make your exploration process easier. For Instance, you can write a function that print out a summary of the missing data occurence in the data. Be sure to document these methods using `markdown` and in-line `comments`."
   ]
  },
  {
   "cell_type": "markdown",
   "metadata": {},
   "source": [
    "### Import Libraries"
   ]
  },
  {
   "cell_type": "code",
   "execution_count": 5,
   "metadata": {},
   "outputs": [],
   "source": [
    "import pandas as pd\n",
    "import numpy as np\n",
    "import seaborn as sns\n",
    "import matplotlib.pyplot as plt\n",
    "%matplotlib inline\n",
    "plt.style.use('fivethirtyeight')  \n",
    "import warnings\n",
    "warnings.filterwarnings('ignore')"
   ]
  },
  {
   "cell_type": "markdown",
   "metadata": {},
   "source": [
    "#### To-Do - Use the head() method to view first few rows of the dataset"
   ]
  },
  {
   "cell_type": "code",
   "execution_count": 6,
   "metadata": {},
   "outputs": [
    {
     "data": {
      "text/html": [
       "<div>\n",
       "<style scoped>\n",
       "    .dataframe tbody tr th:only-of-type {\n",
       "        vertical-align: middle;\n",
       "    }\n",
       "\n",
       "    .dataframe tbody tr th {\n",
       "        vertical-align: top;\n",
       "    }\n",
       "\n",
       "    .dataframe thead th {\n",
       "        text-align: right;\n",
       "    }\n",
       "</style>\n",
       "<table border=\"1\" class=\"dataframe\">\n",
       "  <thead>\n",
       "    <tr style=\"text-align: right;\">\n",
       "      <th></th>\n",
       "      <th>Invoice ID</th>\n",
       "      <th>Branch</th>\n",
       "      <th>City</th>\n",
       "      <th>Customer type</th>\n",
       "      <th>Gender</th>\n",
       "      <th>Product line</th>\n",
       "      <th>Unit price</th>\n",
       "      <th>Quantity</th>\n",
       "      <th>Tax 5%</th>\n",
       "      <th>Total</th>\n",
       "      <th>Date</th>\n",
       "      <th>Time</th>\n",
       "      <th>Payment</th>\n",
       "      <th>cogs</th>\n",
       "      <th>gross margin percentage</th>\n",
       "      <th>gross income</th>\n",
       "      <th>Rating</th>\n",
       "    </tr>\n",
       "  </thead>\n",
       "  <tbody>\n",
       "    <tr>\n",
       "      <td>0</td>\n",
       "      <td>692-92-5582</td>\n",
       "      <td>B</td>\n",
       "      <td>Abuja</td>\n",
       "      <td>Member</td>\n",
       "      <td>Female</td>\n",
       "      <td>Food and beverages</td>\n",
       "      <td>19742.4</td>\n",
       "      <td>3</td>\n",
       "      <td>2961.36</td>\n",
       "      <td>62188.56</td>\n",
       "      <td>2/20/2019</td>\n",
       "      <td>13:27</td>\n",
       "      <td>Card</td>\n",
       "      <td>59227.2</td>\n",
       "      <td>4.761905</td>\n",
       "      <td>2961.36</td>\n",
       "      <td>5.9</td>\n",
       "    </tr>\n",
       "    <tr>\n",
       "      <td>1</td>\n",
       "      <td>351-62-0822</td>\n",
       "      <td>B</td>\n",
       "      <td>Abuja</td>\n",
       "      <td>Member</td>\n",
       "      <td>Female</td>\n",
       "      <td>Fashion accessories</td>\n",
       "      <td>5212.8</td>\n",
       "      <td>4</td>\n",
       "      <td>1042.56</td>\n",
       "      <td>21893.76</td>\n",
       "      <td>2/6/2019</td>\n",
       "      <td>18:07</td>\n",
       "      <td>Epay</td>\n",
       "      <td>20851.2</td>\n",
       "      <td>4.761905</td>\n",
       "      <td>1042.56</td>\n",
       "      <td>4.5</td>\n",
       "    </tr>\n",
       "    <tr>\n",
       "      <td>2</td>\n",
       "      <td>529-56-3974</td>\n",
       "      <td>B</td>\n",
       "      <td>Abuja</td>\n",
       "      <td>Member</td>\n",
       "      <td>Male</td>\n",
       "      <td>Electronic accessories</td>\n",
       "      <td>9183.6</td>\n",
       "      <td>4</td>\n",
       "      <td>1836.72</td>\n",
       "      <td>38571.12</td>\n",
       "      <td>3/9/2019</td>\n",
       "      <td>17:03</td>\n",
       "      <td>Cash</td>\n",
       "      <td>36734.4</td>\n",
       "      <td>4.761905</td>\n",
       "      <td>1836.72</td>\n",
       "      <td>6.8</td>\n",
       "    </tr>\n",
       "    <tr>\n",
       "      <td>3</td>\n",
       "      <td>299-46-1805</td>\n",
       "      <td>B</td>\n",
       "      <td>Abuja</td>\n",
       "      <td>Member</td>\n",
       "      <td>Female</td>\n",
       "      <td>Sports and travel</td>\n",
       "      <td>33739.2</td>\n",
       "      <td>6</td>\n",
       "      <td>10121.76</td>\n",
       "      <td>212556.96</td>\n",
       "      <td>1/15/2019</td>\n",
       "      <td>16:19</td>\n",
       "      <td>Cash</td>\n",
       "      <td>202435.2</td>\n",
       "      <td>4.761905</td>\n",
       "      <td>10121.76</td>\n",
       "      <td>4.5</td>\n",
       "    </tr>\n",
       "    <tr>\n",
       "      <td>4</td>\n",
       "      <td>319-50-3348</td>\n",
       "      <td>B</td>\n",
       "      <td>Abuja</td>\n",
       "      <td>Normal</td>\n",
       "      <td>Female</td>\n",
       "      <td>Home and lifestyle</td>\n",
       "      <td>14508.0</td>\n",
       "      <td>2</td>\n",
       "      <td>1450.80</td>\n",
       "      <td>30466.80</td>\n",
       "      <td>3/11/2019</td>\n",
       "      <td>15:30</td>\n",
       "      <td>Epay</td>\n",
       "      <td>29016.0</td>\n",
       "      <td>4.761905</td>\n",
       "      <td>1450.80</td>\n",
       "      <td>4.4</td>\n",
       "    </tr>\n",
       "  </tbody>\n",
       "</table>\n",
       "</div>"
      ],
      "text/plain": [
       "    Invoice ID Branch   City Customer type  Gender            Product line  \\\n",
       "0  692-92-5582      B  Abuja        Member  Female      Food and beverages   \n",
       "1  351-62-0822      B  Abuja        Member  Female     Fashion accessories   \n",
       "2  529-56-3974      B  Abuja        Member    Male  Electronic accessories   \n",
       "3  299-46-1805      B  Abuja        Member  Female       Sports and travel   \n",
       "4  319-50-3348      B  Abuja        Normal  Female      Home and lifestyle   \n",
       "\n",
       "   Unit price  Quantity    Tax 5%      Total       Date   Time Payment  \\\n",
       "0     19742.4         3   2961.36   62188.56  2/20/2019  13:27    Card   \n",
       "1      5212.8         4   1042.56   21893.76   2/6/2019  18:07    Epay   \n",
       "2      9183.6         4   1836.72   38571.12   3/9/2019  17:03    Cash   \n",
       "3     33739.2         6  10121.76  212556.96  1/15/2019  16:19    Cash   \n",
       "4     14508.0         2   1450.80   30466.80  3/11/2019  15:30    Epay   \n",
       "\n",
       "       cogs  gross margin percentage  gross income  Rating  \n",
       "0   59227.2                 4.761905       2961.36     5.9  \n",
       "1   20851.2                 4.761905       1042.56     4.5  \n",
       "2   36734.4                 4.761905       1836.72     6.8  \n",
       "3  202435.2                 4.761905      10121.76     4.5  \n",
       "4   29016.0                 4.761905       1450.80     4.4  "
      ]
     },
     "execution_count": 6,
     "metadata": {},
     "output_type": "execute_result"
    }
   ],
   "source": [
    "combined_file.head()"
   ]
  },
  {
   "cell_type": "markdown",
   "metadata": {},
   "source": [
    "#### To-Do - Check the number of rows and columns present in the data using the shape attribute."
   ]
  },
  {
   "cell_type": "code",
   "execution_count": 7,
   "metadata": {},
   "outputs": [
    {
     "data": {
      "text/plain": [
       "(1000, 17)"
      ]
     },
     "execution_count": 7,
     "metadata": {},
     "output_type": "execute_result"
    }
   ],
   "source": [
    "combined_file.shape"
   ]
  },
  {
   "cell_type": "markdown",
   "metadata": {},
   "source": [
    "#### To-Do - Generate the names of the columns using the columns attribute."
   ]
  },
  {
   "cell_type": "code",
   "execution_count": 8,
   "metadata": {},
   "outputs": [
    {
     "data": {
      "text/plain": [
       "Index(['Invoice ID', 'Branch', 'City', 'Customer type', 'Gender',\n",
       "       'Product line', 'Unit price', 'Quantity', 'Tax 5%', 'Total', 'Date',\n",
       "       'Time', 'Payment', 'cogs', 'gross margin percentage', 'gross income',\n",
       "       'Rating'],\n",
       "      dtype='object')"
      ]
     },
     "execution_count": 8,
     "metadata": {},
     "output_type": "execute_result"
    }
   ],
   "source": [
    "combined_file.columns"
   ]
  },
  {
   "cell_type": "markdown",
   "metadata": {},
   "source": [
    "#### To-Do - Statiscal Summary\n",
    "The describe method provides the data statistical summary for the dataset, use the method to explore the statistical summary."
   ]
  },
  {
   "cell_type": "code",
   "execution_count": 9,
   "metadata": {},
   "outputs": [
    {
     "data": {
      "text/html": [
       "<div>\n",
       "<style scoped>\n",
       "    .dataframe tbody tr th:only-of-type {\n",
       "        vertical-align: middle;\n",
       "    }\n",
       "\n",
       "    .dataframe tbody tr th {\n",
       "        vertical-align: top;\n",
       "    }\n",
       "\n",
       "    .dataframe thead th {\n",
       "        text-align: right;\n",
       "    }\n",
       "</style>\n",
       "<table border=\"1\" class=\"dataframe\">\n",
       "  <thead>\n",
       "    <tr style=\"text-align: right;\">\n",
       "      <th></th>\n",
       "      <th>Unit price</th>\n",
       "      <th>Quantity</th>\n",
       "      <th>Tax 5%</th>\n",
       "      <th>Total</th>\n",
       "      <th>cogs</th>\n",
       "      <th>gross margin percentage</th>\n",
       "      <th>gross income</th>\n",
       "      <th>Rating</th>\n",
       "    </tr>\n",
       "  </thead>\n",
       "  <tbody>\n",
       "    <tr>\n",
       "      <td>count</td>\n",
       "      <td>1000.000000</td>\n",
       "      <td>1000.000000</td>\n",
       "      <td>1000.000000</td>\n",
       "      <td>1000.000000</td>\n",
       "      <td>1000.000000</td>\n",
       "      <td>1.000000e+03</td>\n",
       "      <td>1000.000000</td>\n",
       "      <td>1000.00000</td>\n",
       "    </tr>\n",
       "    <tr>\n",
       "      <td>mean</td>\n",
       "      <td>20041.966800</td>\n",
       "      <td>5.510000</td>\n",
       "      <td>5536.572840</td>\n",
       "      <td>116268.029640</td>\n",
       "      <td>110731.456800</td>\n",
       "      <td>4.761905e+00</td>\n",
       "      <td>5536.572840</td>\n",
       "      <td>6.97270</td>\n",
       "    </tr>\n",
       "    <tr>\n",
       "      <td>std</td>\n",
       "      <td>9538.066205</td>\n",
       "      <td>2.923431</td>\n",
       "      <td>4215.177173</td>\n",
       "      <td>88518.720636</td>\n",
       "      <td>84303.543463</td>\n",
       "      <td>6.131498e-14</td>\n",
       "      <td>4215.177173</td>\n",
       "      <td>1.71858</td>\n",
       "    </tr>\n",
       "    <tr>\n",
       "      <td>min</td>\n",
       "      <td>3628.800000</td>\n",
       "      <td>1.000000</td>\n",
       "      <td>183.060000</td>\n",
       "      <td>3844.260000</td>\n",
       "      <td>3661.200000</td>\n",
       "      <td>4.761905e+00</td>\n",
       "      <td>183.060000</td>\n",
       "      <td>4.00000</td>\n",
       "    </tr>\n",
       "    <tr>\n",
       "      <td>25%</td>\n",
       "      <td>11835.000000</td>\n",
       "      <td>3.000000</td>\n",
       "      <td>2132.955000</td>\n",
       "      <td>44792.055000</td>\n",
       "      <td>42659.100000</td>\n",
       "      <td>4.761905e+00</td>\n",
       "      <td>2132.955000</td>\n",
       "      <td>5.50000</td>\n",
       "    </tr>\n",
       "    <tr>\n",
       "      <td>50%</td>\n",
       "      <td>19882.800000</td>\n",
       "      <td>5.000000</td>\n",
       "      <td>4351.680000</td>\n",
       "      <td>91385.280000</td>\n",
       "      <td>87033.600000</td>\n",
       "      <td>4.761905e+00</td>\n",
       "      <td>4351.680000</td>\n",
       "      <td>7.00000</td>\n",
       "    </tr>\n",
       "    <tr>\n",
       "      <td>75%</td>\n",
       "      <td>28056.600000</td>\n",
       "      <td>8.000000</td>\n",
       "      <td>8080.290000</td>\n",
       "      <td>169686.090000</td>\n",
       "      <td>161605.800000</td>\n",
       "      <td>4.761905e+00</td>\n",
       "      <td>8080.290000</td>\n",
       "      <td>8.50000</td>\n",
       "    </tr>\n",
       "    <tr>\n",
       "      <td>max</td>\n",
       "      <td>35985.600000</td>\n",
       "      <td>10.000000</td>\n",
       "      <td>17874.000000</td>\n",
       "      <td>375354.000000</td>\n",
       "      <td>357480.000000</td>\n",
       "      <td>4.761905e+00</td>\n",
       "      <td>17874.000000</td>\n",
       "      <td>10.00000</td>\n",
       "    </tr>\n",
       "  </tbody>\n",
       "</table>\n",
       "</div>"
      ],
      "text/plain": [
       "         Unit price     Quantity        Tax 5%          Total           cogs  \\\n",
       "count   1000.000000  1000.000000   1000.000000    1000.000000    1000.000000   \n",
       "mean   20041.966800     5.510000   5536.572840  116268.029640  110731.456800   \n",
       "std     9538.066205     2.923431   4215.177173   88518.720636   84303.543463   \n",
       "min     3628.800000     1.000000    183.060000    3844.260000    3661.200000   \n",
       "25%    11835.000000     3.000000   2132.955000   44792.055000   42659.100000   \n",
       "50%    19882.800000     5.000000   4351.680000   91385.280000   87033.600000   \n",
       "75%    28056.600000     8.000000   8080.290000  169686.090000  161605.800000   \n",
       "max    35985.600000    10.000000  17874.000000  375354.000000  357480.000000   \n",
       "\n",
       "       gross margin percentage  gross income      Rating  \n",
       "count             1.000000e+03   1000.000000  1000.00000  \n",
       "mean              4.761905e+00   5536.572840     6.97270  \n",
       "std               6.131498e-14   4215.177173     1.71858  \n",
       "min               4.761905e+00    183.060000     4.00000  \n",
       "25%               4.761905e+00   2132.955000     5.50000  \n",
       "50%               4.761905e+00   4351.680000     7.00000  \n",
       "75%               4.761905e+00   8080.290000     8.50000  \n",
       "max               4.761905e+00  17874.000000    10.00000  "
      ]
     },
     "execution_count": 9,
     "metadata": {},
     "output_type": "execute_result"
    }
   ],
   "source": [
    "combined_file.describe()"
   ]
  },
  {
   "cell_type": "markdown",
   "metadata": {},
   "source": [
    "#### To-Do - Below this cell write in few sentences what you can derive from the data statistical summary\n"
   ]
  },
  {
   "cell_type": "markdown",
   "metadata": {},
   "source": [
    "Below are the deductions made from the statistical summary above:\n",
    "* the mean rating is 6.972,meaning that the average rating by customers is centered around 6.97\n",
    "* the mean unit price is roughly 20042"
   ]
  },
  {
   "cell_type": "markdown",
   "metadata": {},
   "source": [
    "#### To-Do - Missing values\n",
    "The `isnull`, and `notna` methods can provide a quick overview of the missing data occurence, use that to observe the presence of missing data in the dataset. You can add the sum method to get a summary and not boolean values."
   ]
  },
  {
   "cell_type": "code",
   "execution_count": 10,
   "metadata": {},
   "outputs": [
    {
     "data": {
      "text/plain": [
       "Invoice ID                 0\n",
       "Branch                     0\n",
       "City                       0\n",
       "Customer type              0\n",
       "Gender                     0\n",
       "Product line               0\n",
       "Unit price                 0\n",
       "Quantity                   0\n",
       "Tax 5%                     0\n",
       "Total                      0\n",
       "Date                       0\n",
       "Time                       0\n",
       "Payment                    0\n",
       "cogs                       0\n",
       "gross margin percentage    0\n",
       "gross income               0\n",
       "Rating                     0\n",
       "dtype: int64"
      ]
     },
     "execution_count": 10,
     "metadata": {},
     "output_type": "execute_result"
    }
   ],
   "source": [
    "combined_file.isna().sum()"
   ]
  },
  {
   "cell_type": "markdown",
   "metadata": {},
   "source": [
    "#### To-Do - Data Information\n",
    "The `info()` function is used to print a concise summary of a DataFrame. This method prints information about a DataFrame including the index dtype and column dtypes, non-null values and memory usage. Use this method to observe the data type of each feature."
   ]
  },
  {
   "cell_type": "code",
   "execution_count": 11,
   "metadata": {},
   "outputs": [
    {
     "name": "stdout",
     "output_type": "stream",
     "text": [
      "<class 'pandas.core.frame.DataFrame'>\n",
      "RangeIndex: 1000 entries, 0 to 999\n",
      "Data columns (total 17 columns):\n",
      "Invoice ID                 1000 non-null object\n",
      "Branch                     1000 non-null object\n",
      "City                       1000 non-null object\n",
      "Customer type              1000 non-null object\n",
      "Gender                     1000 non-null object\n",
      "Product line               1000 non-null object\n",
      "Unit price                 1000 non-null float64\n",
      "Quantity                   1000 non-null int64\n",
      "Tax 5%                     1000 non-null float64\n",
      "Total                      1000 non-null float64\n",
      "Date                       1000 non-null object\n",
      "Time                       1000 non-null object\n",
      "Payment                    1000 non-null object\n",
      "cogs                       1000 non-null float64\n",
      "gross margin percentage    1000 non-null float64\n",
      "gross income               1000 non-null float64\n",
      "Rating                     1000 non-null float64\n",
      "dtypes: float64(7), int64(1), object(9)\n",
      "memory usage: 132.9+ KB\n"
     ]
    }
   ],
   "source": [
    "combined_file.info()"
   ]
  },
  {
   "cell_type": "markdown",
   "metadata": {},
   "source": [
    "## Step 3 - Dealing with DateTime Features"
   ]
  },
  {
   "cell_type": "markdown",
   "metadata": {},
   "source": [
    "From the summary above, you can observe that the `date` and `time` columns are not in the appropriate data type\n",
    "you can convert to `datetime` datatype using the `to_datetime()` method. After that is done, use the type attribute \n",
    "to confirm the datatype. "
   ]
  },
  {
   "cell_type": "markdown",
   "metadata": {},
   "source": [
    "#### To-Do - Use `to_datetime()` to convert the `date` column to `datetime`"
   ]
  },
  {
   "cell_type": "code",
   "execution_count": 12,
   "metadata": {},
   "outputs": [],
   "source": [
    "#[Write your Code Here]\n",
    "combined_file['Date']=pd.to_datetime(combined_file['Date'])"
   ]
  },
  {
   "cell_type": "markdown",
   "metadata": {},
   "source": [
    "#### To-Do - Check the datatype to confirm if it's in `datetime`"
   ]
  },
  {
   "cell_type": "code",
   "execution_count": 13,
   "metadata": {},
   "outputs": [
    {
     "data": {
      "text/plain": [
       "dtype('<M8[ns]')"
      ]
     },
     "execution_count": 13,
     "metadata": {},
     "output_type": "execute_result"
    }
   ],
   "source": [
    "combined_file.Date.dtype"
   ]
  },
  {
   "cell_type": "markdown",
   "metadata": {},
   "source": [
    "#### To-Do - Repeat the two steps above to the `time` column"
   ]
  },
  {
   "cell_type": "code",
   "execution_count": 14,
   "metadata": {},
   "outputs": [],
   "source": [
    "combined_file['Time']=pd.to_datetime(combined_file['Time'])"
   ]
  },
  {
   "cell_type": "code",
   "execution_count": 15,
   "metadata": {},
   "outputs": [
    {
     "data": {
      "text/plain": [
       "dtype('<M8[ns]')"
      ]
     },
     "execution_count": 15,
     "metadata": {},
     "output_type": "execute_result"
    }
   ],
   "source": [
    "combined_file.Time.dtype"
   ]
  },
  {
   "cell_type": "markdown",
   "metadata": {},
   "source": [
    "## Extract Features from date & time"
   ]
  },
  {
   "cell_type": "markdown",
   "metadata": {},
   "source": [
    "#### To-Do - Extract the Day feature from the `Date` column, and save to a new `Day` column"
   ]
  },
  {
   "cell_type": "code",
   "execution_count": 16,
   "metadata": {},
   "outputs": [],
   "source": [
    "#[Write your Code Here]\n",
    "combined_file['Day']=combined_file['Date'].dt.day"
   ]
  },
  {
   "cell_type": "markdown",
   "metadata": {},
   "source": [
    "#### To-Do - Extract the Month feature from the `Date` column, and save to a new `Month` column"
   ]
  },
  {
   "cell_type": "code",
   "execution_count": 17,
   "metadata": {},
   "outputs": [],
   "source": [
    "combined_file['Month']=combined_file['Date'].dt.month"
   ]
  },
  {
   "cell_type": "markdown",
   "metadata": {},
   "source": [
    "#### To-Do -Extract the Year feature from the `Date` column, and save to a new `Year` column  "
   ]
  },
  {
   "cell_type": "code",
   "execution_count": 18,
   "metadata": {},
   "outputs": [],
   "source": [
    "combined_file['year']=combined_file['Date'].dt.year"
   ]
  },
  {
   "cell_type": "markdown",
   "metadata": {},
   "source": [
    "#### To-Do - Extract the `Hour` feature from the `Time` column and save to a new `Hour` column"
   ]
  },
  {
   "cell_type": "code",
   "execution_count": 19,
   "metadata": {},
   "outputs": [],
   "source": [
    "combined_file['hour']=combined_file['Time'].dt.hour"
   ]
  },
  {
   "cell_type": "code",
   "execution_count": 20,
   "metadata": {},
   "outputs": [
    {
     "data": {
      "text/html": [
       "<div>\n",
       "<style scoped>\n",
       "    .dataframe tbody tr th:only-of-type {\n",
       "        vertical-align: middle;\n",
       "    }\n",
       "\n",
       "    .dataframe tbody tr th {\n",
       "        vertical-align: top;\n",
       "    }\n",
       "\n",
       "    .dataframe thead th {\n",
       "        text-align: right;\n",
       "    }\n",
       "</style>\n",
       "<table border=\"1\" class=\"dataframe\">\n",
       "  <thead>\n",
       "    <tr style=\"text-align: right;\">\n",
       "      <th></th>\n",
       "      <th>0</th>\n",
       "      <th>1</th>\n",
       "      <th>2</th>\n",
       "      <th>3</th>\n",
       "      <th>4</th>\n",
       "      <th>5</th>\n",
       "      <th>6</th>\n",
       "      <th>7</th>\n",
       "      <th>8</th>\n",
       "      <th>9</th>\n",
       "      <th>...</th>\n",
       "      <th>990</th>\n",
       "      <th>991</th>\n",
       "      <th>992</th>\n",
       "      <th>993</th>\n",
       "      <th>994</th>\n",
       "      <th>995</th>\n",
       "      <th>996</th>\n",
       "      <th>997</th>\n",
       "      <th>998</th>\n",
       "      <th>999</th>\n",
       "    </tr>\n",
       "  </thead>\n",
       "  <tbody>\n",
       "    <tr>\n",
       "      <td>Invoice ID</td>\n",
       "      <td>692-92-5582</td>\n",
       "      <td>351-62-0822</td>\n",
       "      <td>529-56-3974</td>\n",
       "      <td>299-46-1805</td>\n",
       "      <td>319-50-3348</td>\n",
       "      <td>371-85-5789</td>\n",
       "      <td>273-16-6619</td>\n",
       "      <td>649-29-6775</td>\n",
       "      <td>145-94-9061</td>\n",
       "      <td>871-79-8483</td>\n",
       "      <td>...</td>\n",
       "      <td>867-47-1948</td>\n",
       "      <td>256-58-3609</td>\n",
       "      <td>364-34-2972</td>\n",
       "      <td>744-82-9138</td>\n",
       "      <td>728-47-9078</td>\n",
       "      <td>148-41-7930</td>\n",
       "      <td>189-40-5216</td>\n",
       "      <td>267-62-7380</td>\n",
       "      <td>652-49-6720</td>\n",
       "      <td>233-67-5758</td>\n",
       "    </tr>\n",
       "    <tr>\n",
       "      <td>Branch</td>\n",
       "      <td>B</td>\n",
       "      <td>B</td>\n",
       "      <td>B</td>\n",
       "      <td>B</td>\n",
       "      <td>B</td>\n",
       "      <td>B</td>\n",
       "      <td>B</td>\n",
       "      <td>B</td>\n",
       "      <td>B</td>\n",
       "      <td>B</td>\n",
       "      <td>...</td>\n",
       "      <td>C</td>\n",
       "      <td>C</td>\n",
       "      <td>C</td>\n",
       "      <td>C</td>\n",
       "      <td>C</td>\n",
       "      <td>C</td>\n",
       "      <td>C</td>\n",
       "      <td>C</td>\n",
       "      <td>C</td>\n",
       "      <td>C</td>\n",
       "    </tr>\n",
       "    <tr>\n",
       "      <td>City</td>\n",
       "      <td>Abuja</td>\n",
       "      <td>Abuja</td>\n",
       "      <td>Abuja</td>\n",
       "      <td>Abuja</td>\n",
       "      <td>Abuja</td>\n",
       "      <td>Abuja</td>\n",
       "      <td>Abuja</td>\n",
       "      <td>Abuja</td>\n",
       "      <td>Abuja</td>\n",
       "      <td>Abuja</td>\n",
       "      <td>...</td>\n",
       "      <td>Port Harcourt</td>\n",
       "      <td>Port Harcourt</td>\n",
       "      <td>Port Harcourt</td>\n",
       "      <td>Port Harcourt</td>\n",
       "      <td>Port Harcourt</td>\n",
       "      <td>Port Harcourt</td>\n",
       "      <td>Port Harcourt</td>\n",
       "      <td>Port Harcourt</td>\n",
       "      <td>Port Harcourt</td>\n",
       "      <td>Port Harcourt</td>\n",
       "    </tr>\n",
       "    <tr>\n",
       "      <td>Customer type</td>\n",
       "      <td>Member</td>\n",
       "      <td>Member</td>\n",
       "      <td>Member</td>\n",
       "      <td>Member</td>\n",
       "      <td>Normal</td>\n",
       "      <td>Normal</td>\n",
       "      <td>Normal</td>\n",
       "      <td>Normal</td>\n",
       "      <td>Normal</td>\n",
       "      <td>Normal</td>\n",
       "      <td>...</td>\n",
       "      <td>Normal</td>\n",
       "      <td>Member</td>\n",
       "      <td>Member</td>\n",
       "      <td>Normal</td>\n",
       "      <td>Member</td>\n",
       "      <td>Normal</td>\n",
       "      <td>Normal</td>\n",
       "      <td>Member</td>\n",
       "      <td>Member</td>\n",
       "      <td>Normal</td>\n",
       "    </tr>\n",
       "    <tr>\n",
       "      <td>Gender</td>\n",
       "      <td>Female</td>\n",
       "      <td>Female</td>\n",
       "      <td>Male</td>\n",
       "      <td>Female</td>\n",
       "      <td>Female</td>\n",
       "      <td>Male</td>\n",
       "      <td>Male</td>\n",
       "      <td>Male</td>\n",
       "      <td>Female</td>\n",
       "      <td>Male</td>\n",
       "      <td>...</td>\n",
       "      <td>Female</td>\n",
       "      <td>Male</td>\n",
       "      <td>Male</td>\n",
       "      <td>Male</td>\n",
       "      <td>Male</td>\n",
       "      <td>Male</td>\n",
       "      <td>Male</td>\n",
       "      <td>Male</td>\n",
       "      <td>Female</td>\n",
       "      <td>Male</td>\n",
       "    </tr>\n",
       "    <tr>\n",
       "      <td>Product line</td>\n",
       "      <td>Food and beverages</td>\n",
       "      <td>Fashion accessories</td>\n",
       "      <td>Electronic accessories</td>\n",
       "      <td>Sports and travel</td>\n",
       "      <td>Home and lifestyle</td>\n",
       "      <td>Health and beauty</td>\n",
       "      <td>Home and lifestyle</td>\n",
       "      <td>Fashion accessories</td>\n",
       "      <td>Food and beverages</td>\n",
       "      <td>Fashion accessories</td>\n",
       "      <td>...</td>\n",
       "      <td>Home and lifestyle</td>\n",
       "      <td>Fashion accessories</td>\n",
       "      <td>Electronic accessories</td>\n",
       "      <td>Fashion accessories</td>\n",
       "      <td>Food and beverages</td>\n",
       "      <td>Health and beauty</td>\n",
       "      <td>Electronic accessories</td>\n",
       "      <td>Electronic accessories</td>\n",
       "      <td>Electronic accessories</td>\n",
       "      <td>Health and beauty</td>\n",
       "    </tr>\n",
       "    <tr>\n",
       "      <td>Unit price</td>\n",
       "      <td>19742.4</td>\n",
       "      <td>5212.8</td>\n",
       "      <td>9183.6</td>\n",
       "      <td>33739.2</td>\n",
       "      <td>14508</td>\n",
       "      <td>31672.8</td>\n",
       "      <td>11952</td>\n",
       "      <td>12067.2</td>\n",
       "      <td>31809.6</td>\n",
       "      <td>33886.8</td>\n",
       "      <td>...</td>\n",
       "      <td>5688</td>\n",
       "      <td>33112.8</td>\n",
       "      <td>34855.2</td>\n",
       "      <td>31006.8</td>\n",
       "      <td>21452.4</td>\n",
       "      <td>35985.6</td>\n",
       "      <td>34693.2</td>\n",
       "      <td>29642.4</td>\n",
       "      <td>21942</td>\n",
       "      <td>14526</td>\n",
       "    </tr>\n",
       "    <tr>\n",
       "      <td>Quantity</td>\n",
       "      <td>3</td>\n",
       "      <td>4</td>\n",
       "      <td>4</td>\n",
       "      <td>6</td>\n",
       "      <td>2</td>\n",
       "      <td>3</td>\n",
       "      <td>2</td>\n",
       "      <td>1</td>\n",
       "      <td>5</td>\n",
       "      <td>5</td>\n",
       "      <td>...</td>\n",
       "      <td>10</td>\n",
       "      <td>1</td>\n",
       "      <td>3</td>\n",
       "      <td>2</td>\n",
       "      <td>4</td>\n",
       "      <td>7</td>\n",
       "      <td>7</td>\n",
       "      <td>10</td>\n",
       "      <td>1</td>\n",
       "      <td>1</td>\n",
       "    </tr>\n",
       "    <tr>\n",
       "      <td>Tax 5%</td>\n",
       "      <td>2961.36</td>\n",
       "      <td>1042.56</td>\n",
       "      <td>1836.72</td>\n",
       "      <td>10121.8</td>\n",
       "      <td>1450.8</td>\n",
       "      <td>4750.92</td>\n",
       "      <td>1195.2</td>\n",
       "      <td>603.36</td>\n",
       "      <td>7952.4</td>\n",
       "      <td>8471.7</td>\n",
       "      <td>...</td>\n",
       "      <td>2844</td>\n",
       "      <td>1655.64</td>\n",
       "      <td>5228.28</td>\n",
       "      <td>3100.68</td>\n",
       "      <td>4290.48</td>\n",
       "      <td>12595</td>\n",
       "      <td>12142.6</td>\n",
       "      <td>14821.2</td>\n",
       "      <td>1097.1</td>\n",
       "      <td>726.3</td>\n",
       "    </tr>\n",
       "    <tr>\n",
       "      <td>Total</td>\n",
       "      <td>62188.6</td>\n",
       "      <td>21893.8</td>\n",
       "      <td>38571.1</td>\n",
       "      <td>212557</td>\n",
       "      <td>30466.8</td>\n",
       "      <td>99769.3</td>\n",
       "      <td>25099.2</td>\n",
       "      <td>12670.6</td>\n",
       "      <td>167000</td>\n",
       "      <td>177906</td>\n",
       "      <td>...</td>\n",
       "      <td>59724</td>\n",
       "      <td>34768.4</td>\n",
       "      <td>109794</td>\n",
       "      <td>65114.3</td>\n",
       "      <td>90100.1</td>\n",
       "      <td>264494</td>\n",
       "      <td>254995</td>\n",
       "      <td>311245</td>\n",
       "      <td>23039.1</td>\n",
       "      <td>15252.3</td>\n",
       "    </tr>\n",
       "    <tr>\n",
       "      <td>Date</td>\n",
       "      <td>2019-02-20 00:00:00</td>\n",
       "      <td>2019-02-06 00:00:00</td>\n",
       "      <td>2019-03-09 00:00:00</td>\n",
       "      <td>2019-01-15 00:00:00</td>\n",
       "      <td>2019-03-11 00:00:00</td>\n",
       "      <td>2019-03-05 00:00:00</td>\n",
       "      <td>2019-03-15 00:00:00</td>\n",
       "      <td>2019-02-08 00:00:00</td>\n",
       "      <td>2019-01-25 00:00:00</td>\n",
       "      <td>2019-02-25 00:00:00</td>\n",
       "      <td>...</td>\n",
       "      <td>2019-01-09 00:00:00</td>\n",
       "      <td>2019-03-18 00:00:00</td>\n",
       "      <td>2019-03-30 00:00:00</td>\n",
       "      <td>2019-02-07 00:00:00</td>\n",
       "      <td>2019-01-19 00:00:00</td>\n",
       "      <td>2019-01-23 00:00:00</td>\n",
       "      <td>2019-01-09 00:00:00</td>\n",
       "      <td>2019-03-29 00:00:00</td>\n",
       "      <td>2019-02-18 00:00:00</td>\n",
       "      <td>2019-01-29 00:00:00</td>\n",
       "    </tr>\n",
       "    <tr>\n",
       "      <td>Time</td>\n",
       "      <td>2021-03-30 13:27:00</td>\n",
       "      <td>2021-03-30 18:07:00</td>\n",
       "      <td>2021-03-30 17:03:00</td>\n",
       "      <td>2021-03-30 16:19:00</td>\n",
       "      <td>2021-03-30 15:30:00</td>\n",
       "      <td>2021-03-30 10:40:00</td>\n",
       "      <td>2021-03-30 12:20:00</td>\n",
       "      <td>2021-03-30 15:31:00</td>\n",
       "      <td>2021-03-30 19:48:00</td>\n",
       "      <td>2021-03-30 19:39:00</td>\n",
       "      <td>...</td>\n",
       "      <td>2021-03-30 12:07:00</td>\n",
       "      <td>2021-03-30 15:29:00</td>\n",
       "      <td>2021-03-30 20:37:00</td>\n",
       "      <td>2021-03-30 17:59:00</td>\n",
       "      <td>2021-03-30 12:46:00</td>\n",
       "      <td>2021-03-30 10:33:00</td>\n",
       "      <td>2021-03-30 11:40:00</td>\n",
       "      <td>2021-03-30 19:12:00</td>\n",
       "      <td>2021-03-30 11:40:00</td>\n",
       "      <td>2021-03-30 13:46:00</td>\n",
       "    </tr>\n",
       "    <tr>\n",
       "      <td>Payment</td>\n",
       "      <td>Card</td>\n",
       "      <td>Epay</td>\n",
       "      <td>Cash</td>\n",
       "      <td>Cash</td>\n",
       "      <td>Epay</td>\n",
       "      <td>Epay</td>\n",
       "      <td>Card</td>\n",
       "      <td>Cash</td>\n",
       "      <td>Cash</td>\n",
       "      <td>Card</td>\n",
       "      <td>...</td>\n",
       "      <td>Cash</td>\n",
       "      <td>Cash</td>\n",
       "      <td>Cash</td>\n",
       "      <td>Cash</td>\n",
       "      <td>Cash</td>\n",
       "      <td>Cash</td>\n",
       "      <td>Cash</td>\n",
       "      <td>Epay</td>\n",
       "      <td>Epay</td>\n",
       "      <td>Epay</td>\n",
       "    </tr>\n",
       "    <tr>\n",
       "      <td>cogs</td>\n",
       "      <td>59227.2</td>\n",
       "      <td>20851.2</td>\n",
       "      <td>36734.4</td>\n",
       "      <td>202435</td>\n",
       "      <td>29016</td>\n",
       "      <td>95018.4</td>\n",
       "      <td>23904</td>\n",
       "      <td>12067.2</td>\n",
       "      <td>159048</td>\n",
       "      <td>169434</td>\n",
       "      <td>...</td>\n",
       "      <td>56880</td>\n",
       "      <td>33112.8</td>\n",
       "      <td>104566</td>\n",
       "      <td>62013.6</td>\n",
       "      <td>85809.6</td>\n",
       "      <td>251899</td>\n",
       "      <td>242852</td>\n",
       "      <td>296424</td>\n",
       "      <td>21942</td>\n",
       "      <td>14526</td>\n",
       "    </tr>\n",
       "    <tr>\n",
       "      <td>gross margin percentage</td>\n",
       "      <td>4.7619</td>\n",
       "      <td>4.7619</td>\n",
       "      <td>4.7619</td>\n",
       "      <td>4.7619</td>\n",
       "      <td>4.7619</td>\n",
       "      <td>4.7619</td>\n",
       "      <td>4.7619</td>\n",
       "      <td>4.7619</td>\n",
       "      <td>4.7619</td>\n",
       "      <td>4.7619</td>\n",
       "      <td>...</td>\n",
       "      <td>4.7619</td>\n",
       "      <td>4.7619</td>\n",
       "      <td>4.7619</td>\n",
       "      <td>4.7619</td>\n",
       "      <td>4.7619</td>\n",
       "      <td>4.7619</td>\n",
       "      <td>4.7619</td>\n",
       "      <td>4.7619</td>\n",
       "      <td>4.7619</td>\n",
       "      <td>4.7619</td>\n",
       "    </tr>\n",
       "    <tr>\n",
       "      <td>gross income</td>\n",
       "      <td>2961.36</td>\n",
       "      <td>1042.56</td>\n",
       "      <td>1836.72</td>\n",
       "      <td>10121.8</td>\n",
       "      <td>1450.8</td>\n",
       "      <td>4750.92</td>\n",
       "      <td>1195.2</td>\n",
       "      <td>603.36</td>\n",
       "      <td>7952.4</td>\n",
       "      <td>8471.7</td>\n",
       "      <td>...</td>\n",
       "      <td>2844</td>\n",
       "      <td>1655.64</td>\n",
       "      <td>5228.28</td>\n",
       "      <td>3100.68</td>\n",
       "      <td>4290.48</td>\n",
       "      <td>12595</td>\n",
       "      <td>12142.6</td>\n",
       "      <td>14821.2</td>\n",
       "      <td>1097.1</td>\n",
       "      <td>726.3</td>\n",
       "    </tr>\n",
       "    <tr>\n",
       "      <td>Rating</td>\n",
       "      <td>5.9</td>\n",
       "      <td>4.5</td>\n",
       "      <td>6.8</td>\n",
       "      <td>4.5</td>\n",
       "      <td>4.4</td>\n",
       "      <td>5.1</td>\n",
       "      <td>4.4</td>\n",
       "      <td>6.7</td>\n",
       "      <td>9.6</td>\n",
       "      <td>4.8</td>\n",
       "      <td>...</td>\n",
       "      <td>7.8</td>\n",
       "      <td>9.8</td>\n",
       "      <td>6.7</td>\n",
       "      <td>8.2</td>\n",
       "      <td>9.8</td>\n",
       "      <td>6.1</td>\n",
       "      <td>6</td>\n",
       "      <td>4.3</td>\n",
       "      <td>5.9</td>\n",
       "      <td>6.2</td>\n",
       "    </tr>\n",
       "    <tr>\n",
       "      <td>Day</td>\n",
       "      <td>20</td>\n",
       "      <td>6</td>\n",
       "      <td>9</td>\n",
       "      <td>15</td>\n",
       "      <td>11</td>\n",
       "      <td>5</td>\n",
       "      <td>15</td>\n",
       "      <td>8</td>\n",
       "      <td>25</td>\n",
       "      <td>25</td>\n",
       "      <td>...</td>\n",
       "      <td>9</td>\n",
       "      <td>18</td>\n",
       "      <td>30</td>\n",
       "      <td>7</td>\n",
       "      <td>19</td>\n",
       "      <td>23</td>\n",
       "      <td>9</td>\n",
       "      <td>29</td>\n",
       "      <td>18</td>\n",
       "      <td>29</td>\n",
       "    </tr>\n",
       "    <tr>\n",
       "      <td>Month</td>\n",
       "      <td>2</td>\n",
       "      <td>2</td>\n",
       "      <td>3</td>\n",
       "      <td>1</td>\n",
       "      <td>3</td>\n",
       "      <td>3</td>\n",
       "      <td>3</td>\n",
       "      <td>2</td>\n",
       "      <td>1</td>\n",
       "      <td>2</td>\n",
       "      <td>...</td>\n",
       "      <td>1</td>\n",
       "      <td>3</td>\n",
       "      <td>3</td>\n",
       "      <td>2</td>\n",
       "      <td>1</td>\n",
       "      <td>1</td>\n",
       "      <td>1</td>\n",
       "      <td>3</td>\n",
       "      <td>2</td>\n",
       "      <td>1</td>\n",
       "    </tr>\n",
       "    <tr>\n",
       "      <td>year</td>\n",
       "      <td>2019</td>\n",
       "      <td>2019</td>\n",
       "      <td>2019</td>\n",
       "      <td>2019</td>\n",
       "      <td>2019</td>\n",
       "      <td>2019</td>\n",
       "      <td>2019</td>\n",
       "      <td>2019</td>\n",
       "      <td>2019</td>\n",
       "      <td>2019</td>\n",
       "      <td>...</td>\n",
       "      <td>2019</td>\n",
       "      <td>2019</td>\n",
       "      <td>2019</td>\n",
       "      <td>2019</td>\n",
       "      <td>2019</td>\n",
       "      <td>2019</td>\n",
       "      <td>2019</td>\n",
       "      <td>2019</td>\n",
       "      <td>2019</td>\n",
       "      <td>2019</td>\n",
       "    </tr>\n",
       "    <tr>\n",
       "      <td>hour</td>\n",
       "      <td>13</td>\n",
       "      <td>18</td>\n",
       "      <td>17</td>\n",
       "      <td>16</td>\n",
       "      <td>15</td>\n",
       "      <td>10</td>\n",
       "      <td>12</td>\n",
       "      <td>15</td>\n",
       "      <td>19</td>\n",
       "      <td>19</td>\n",
       "      <td>...</td>\n",
       "      <td>12</td>\n",
       "      <td>15</td>\n",
       "      <td>20</td>\n",
       "      <td>17</td>\n",
       "      <td>12</td>\n",
       "      <td>10</td>\n",
       "      <td>11</td>\n",
       "      <td>19</td>\n",
       "      <td>11</td>\n",
       "      <td>13</td>\n",
       "    </tr>\n",
       "  </tbody>\n",
       "</table>\n",
       "<p>21 rows × 1000 columns</p>\n",
       "</div>"
      ],
      "text/plain": [
       "                                         0                    1    \\\n",
       "Invoice ID                       692-92-5582          351-62-0822   \n",
       "Branch                                     B                    B   \n",
       "City                                   Abuja                Abuja   \n",
       "Customer type                         Member               Member   \n",
       "Gender                                Female               Female   \n",
       "Product line              Food and beverages  Fashion accessories   \n",
       "Unit price                           19742.4               5212.8   \n",
       "Quantity                                   3                    4   \n",
       "Tax 5%                               2961.36              1042.56   \n",
       "Total                                62188.6              21893.8   \n",
       "Date                     2019-02-20 00:00:00  2019-02-06 00:00:00   \n",
       "Time                     2021-03-30 13:27:00  2021-03-30 18:07:00   \n",
       "Payment                                 Card                 Epay   \n",
       "cogs                                 59227.2              20851.2   \n",
       "gross margin percentage               4.7619               4.7619   \n",
       "gross income                         2961.36              1042.56   \n",
       "Rating                                   5.9                  4.5   \n",
       "Day                                       20                    6   \n",
       "Month                                      2                    2   \n",
       "year                                    2019                 2019   \n",
       "hour                                      13                   18   \n",
       "\n",
       "                                            2                    3    \\\n",
       "Invoice ID                          529-56-3974          299-46-1805   \n",
       "Branch                                        B                    B   \n",
       "City                                      Abuja                Abuja   \n",
       "Customer type                            Member               Member   \n",
       "Gender                                     Male               Female   \n",
       "Product line             Electronic accessories    Sports and travel   \n",
       "Unit price                               9183.6              33739.2   \n",
       "Quantity                                      4                    6   \n",
       "Tax 5%                                  1836.72              10121.8   \n",
       "Total                                   38571.1               212557   \n",
       "Date                        2019-03-09 00:00:00  2019-01-15 00:00:00   \n",
       "Time                        2021-03-30 17:03:00  2021-03-30 16:19:00   \n",
       "Payment                                    Cash                 Cash   \n",
       "cogs                                    36734.4               202435   \n",
       "gross margin percentage                  4.7619               4.7619   \n",
       "gross income                            1836.72              10121.8   \n",
       "Rating                                      6.8                  4.5   \n",
       "Day                                           9                   15   \n",
       "Month                                         3                    1   \n",
       "year                                       2019                 2019   \n",
       "hour                                         17                   16   \n",
       "\n",
       "                                         4                    5    \\\n",
       "Invoice ID                       319-50-3348          371-85-5789   \n",
       "Branch                                     B                    B   \n",
       "City                                   Abuja                Abuja   \n",
       "Customer type                         Normal               Normal   \n",
       "Gender                                Female                 Male   \n",
       "Product line              Home and lifestyle    Health and beauty   \n",
       "Unit price                             14508              31672.8   \n",
       "Quantity                                   2                    3   \n",
       "Tax 5%                                1450.8              4750.92   \n",
       "Total                                30466.8              99769.3   \n",
       "Date                     2019-03-11 00:00:00  2019-03-05 00:00:00   \n",
       "Time                     2021-03-30 15:30:00  2021-03-30 10:40:00   \n",
       "Payment                                 Epay                 Epay   \n",
       "cogs                                   29016              95018.4   \n",
       "gross margin percentage               4.7619               4.7619   \n",
       "gross income                          1450.8              4750.92   \n",
       "Rating                                   4.4                  5.1   \n",
       "Day                                       11                    5   \n",
       "Month                                      3                    3   \n",
       "year                                    2019                 2019   \n",
       "hour                                      15                   10   \n",
       "\n",
       "                                         6                    7    \\\n",
       "Invoice ID                       273-16-6619          649-29-6775   \n",
       "Branch                                     B                    B   \n",
       "City                                   Abuja                Abuja   \n",
       "Customer type                         Normal               Normal   \n",
       "Gender                                  Male                 Male   \n",
       "Product line              Home and lifestyle  Fashion accessories   \n",
       "Unit price                             11952              12067.2   \n",
       "Quantity                                   2                    1   \n",
       "Tax 5%                                1195.2               603.36   \n",
       "Total                                25099.2              12670.6   \n",
       "Date                     2019-03-15 00:00:00  2019-02-08 00:00:00   \n",
       "Time                     2021-03-30 12:20:00  2021-03-30 15:31:00   \n",
       "Payment                                 Card                 Cash   \n",
       "cogs                                   23904              12067.2   \n",
       "gross margin percentage               4.7619               4.7619   \n",
       "gross income                          1195.2               603.36   \n",
       "Rating                                   4.4                  6.7   \n",
       "Day                                       15                    8   \n",
       "Month                                      3                    2   \n",
       "year                                    2019                 2019   \n",
       "hour                                      12                   15   \n",
       "\n",
       "                                         8                    9    ...  \\\n",
       "Invoice ID                       145-94-9061          871-79-8483  ...   \n",
       "Branch                                     B                    B  ...   \n",
       "City                                   Abuja                Abuja  ...   \n",
       "Customer type                         Normal               Normal  ...   \n",
       "Gender                                Female                 Male  ...   \n",
       "Product line              Food and beverages  Fashion accessories  ...   \n",
       "Unit price                           31809.6              33886.8  ...   \n",
       "Quantity                                   5                    5  ...   \n",
       "Tax 5%                                7952.4               8471.7  ...   \n",
       "Total                                 167000               177906  ...   \n",
       "Date                     2019-01-25 00:00:00  2019-02-25 00:00:00  ...   \n",
       "Time                     2021-03-30 19:48:00  2021-03-30 19:39:00  ...   \n",
       "Payment                                 Cash                 Card  ...   \n",
       "cogs                                  159048               169434  ...   \n",
       "gross margin percentage               4.7619               4.7619  ...   \n",
       "gross income                          7952.4               8471.7  ...   \n",
       "Rating                                   9.6                  4.8  ...   \n",
       "Day                                       25                   25  ...   \n",
       "Month                                      1                    2  ...   \n",
       "year                                    2019                 2019  ...   \n",
       "hour                                      19                   19  ...   \n",
       "\n",
       "                                         990                  991  \\\n",
       "Invoice ID                       867-47-1948          256-58-3609   \n",
       "Branch                                     C                    C   \n",
       "City                           Port Harcourt        Port Harcourt   \n",
       "Customer type                         Normal               Member   \n",
       "Gender                                Female                 Male   \n",
       "Product line              Home and lifestyle  Fashion accessories   \n",
       "Unit price                              5688              33112.8   \n",
       "Quantity                                  10                    1   \n",
       "Tax 5%                                  2844              1655.64   \n",
       "Total                                  59724              34768.4   \n",
       "Date                     2019-01-09 00:00:00  2019-03-18 00:00:00   \n",
       "Time                     2021-03-30 12:07:00  2021-03-30 15:29:00   \n",
       "Payment                                 Cash                 Cash   \n",
       "cogs                                   56880              33112.8   \n",
       "gross margin percentage               4.7619               4.7619   \n",
       "gross income                            2844              1655.64   \n",
       "Rating                                   7.8                  9.8   \n",
       "Day                                        9                   18   \n",
       "Month                                      1                    3   \n",
       "year                                    2019                 2019   \n",
       "hour                                      12                   15   \n",
       "\n",
       "                                            992                  993  \\\n",
       "Invoice ID                          364-34-2972          744-82-9138   \n",
       "Branch                                        C                    C   \n",
       "City                              Port Harcourt        Port Harcourt   \n",
       "Customer type                            Member               Normal   \n",
       "Gender                                     Male                 Male   \n",
       "Product line             Electronic accessories  Fashion accessories   \n",
       "Unit price                              34855.2              31006.8   \n",
       "Quantity                                      3                    2   \n",
       "Tax 5%                                  5228.28              3100.68   \n",
       "Total                                    109794              65114.3   \n",
       "Date                        2019-03-30 00:00:00  2019-02-07 00:00:00   \n",
       "Time                        2021-03-30 20:37:00  2021-03-30 17:59:00   \n",
       "Payment                                    Cash                 Cash   \n",
       "cogs                                     104566              62013.6   \n",
       "gross margin percentage                  4.7619               4.7619   \n",
       "gross income                            5228.28              3100.68   \n",
       "Rating                                      6.7                  8.2   \n",
       "Day                                          30                    7   \n",
       "Month                                         3                    2   \n",
       "year                                       2019                 2019   \n",
       "hour                                         20                   17   \n",
       "\n",
       "                                         994                  995  \\\n",
       "Invoice ID                       728-47-9078          148-41-7930   \n",
       "Branch                                     C                    C   \n",
       "City                           Port Harcourt        Port Harcourt   \n",
       "Customer type                         Member               Normal   \n",
       "Gender                                  Male                 Male   \n",
       "Product line              Food and beverages    Health and beauty   \n",
       "Unit price                           21452.4              35985.6   \n",
       "Quantity                                   4                    7   \n",
       "Tax 5%                               4290.48                12595   \n",
       "Total                                90100.1               264494   \n",
       "Date                     2019-01-19 00:00:00  2019-01-23 00:00:00   \n",
       "Time                     2021-03-30 12:46:00  2021-03-30 10:33:00   \n",
       "Payment                                 Cash                 Cash   \n",
       "cogs                                 85809.6               251899   \n",
       "gross margin percentage               4.7619               4.7619   \n",
       "gross income                         4290.48                12595   \n",
       "Rating                                   9.8                  6.1   \n",
       "Day                                       19                   23   \n",
       "Month                                      1                    1   \n",
       "year                                    2019                 2019   \n",
       "hour                                      12                   10   \n",
       "\n",
       "                                            996                     997  \\\n",
       "Invoice ID                          189-40-5216             267-62-7380   \n",
       "Branch                                        C                       C   \n",
       "City                              Port Harcourt           Port Harcourt   \n",
       "Customer type                            Normal                  Member   \n",
       "Gender                                     Male                    Male   \n",
       "Product line             Electronic accessories  Electronic accessories   \n",
       "Unit price                              34693.2                 29642.4   \n",
       "Quantity                                      7                      10   \n",
       "Tax 5%                                  12142.6                 14821.2   \n",
       "Total                                    254995                  311245   \n",
       "Date                        2019-01-09 00:00:00     2019-03-29 00:00:00   \n",
       "Time                        2021-03-30 11:40:00     2021-03-30 19:12:00   \n",
       "Payment                                    Cash                    Epay   \n",
       "cogs                                     242852                  296424   \n",
       "gross margin percentage                  4.7619                  4.7619   \n",
       "gross income                            12142.6                 14821.2   \n",
       "Rating                                        6                     4.3   \n",
       "Day                                           9                      29   \n",
       "Month                                         1                       3   \n",
       "year                                       2019                    2019   \n",
       "hour                                         11                      19   \n",
       "\n",
       "                                            998                  999  \n",
       "Invoice ID                          652-49-6720          233-67-5758  \n",
       "Branch                                        C                    C  \n",
       "City                              Port Harcourt        Port Harcourt  \n",
       "Customer type                            Member               Normal  \n",
       "Gender                                   Female                 Male  \n",
       "Product line             Electronic accessories    Health and beauty  \n",
       "Unit price                                21942                14526  \n",
       "Quantity                                      1                    1  \n",
       "Tax 5%                                   1097.1                726.3  \n",
       "Total                                   23039.1              15252.3  \n",
       "Date                        2019-02-18 00:00:00  2019-01-29 00:00:00  \n",
       "Time                        2021-03-30 11:40:00  2021-03-30 13:46:00  \n",
       "Payment                                    Epay                 Epay  \n",
       "cogs                                      21942                14526  \n",
       "gross margin percentage                  4.7619               4.7619  \n",
       "gross income                             1097.1                726.3  \n",
       "Rating                                      5.9                  6.2  \n",
       "Day                                          18                   29  \n",
       "Month                                         2                    1  \n",
       "year                                       2019                 2019  \n",
       "hour                                         11                   13  \n",
       "\n",
       "[21 rows x 1000 columns]"
      ]
     },
     "execution_count": 20,
     "metadata": {},
     "output_type": "execute_result"
    }
   ],
   "source": [
    "combined_file.T"
   ]
  },
  {
   "cell_type": "markdown",
   "metadata": {},
   "source": [
    "### let's drop the `Date` and `Time ` columns since we have extracted features from them"
   ]
  },
  {
   "cell_type": "code",
   "execution_count": 21,
   "metadata": {},
   "outputs": [],
   "source": [
    "df=combined_file.drop(['Date','Time'],axis=1)"
   ]
  },
  {
   "cell_type": "markdown",
   "metadata": {},
   "source": [
    "#### Pandas provide the `nunique()` method to get a count of unique values, while the `unique()` function is used to get unique values of Series object."
   ]
  },
  {
   "cell_type": "markdown",
   "metadata": {},
   "source": [
    "#### To-Do -  From the hours information, determine the numbers of unique hours of sales in the supermarket, and return an array of the hours using the unique() method"
   ]
  },
  {
   "cell_type": "code",
   "execution_count": 22,
   "metadata": {},
   "outputs": [
    {
     "data": {
      "text/plain": [
       "11"
      ]
     },
     "execution_count": 22,
     "metadata": {},
     "output_type": "execute_result"
    }
   ],
   "source": [
    "df['hour'].nunique()"
   ]
  },
  {
   "cell_type": "code",
   "execution_count": 23,
   "metadata": {},
   "outputs": [
    {
     "data": {
      "text/plain": [
       "array([13, 18, 17, 16, 15, 10, 12, 19, 14, 11, 20], dtype=int64)"
      ]
     },
     "execution_count": 23,
     "metadata": {},
     "output_type": "execute_result"
    }
   ],
   "source": [
    "#[Write your Code Here]\n",
    "df['hour'].unique()"
   ]
  },
  {
   "cell_type": "code",
   "execution_count": 24,
   "metadata": {},
   "outputs": [],
   "source": [
    "# let's make a copy of the dataframe\n",
    "df_copy=df.copy()"
   ]
  },
  {
   "cell_type": "markdown",
   "metadata": {},
   "source": [
    "## Step 4 - Unique Values in Columns"
   ]
  },
  {
   "cell_type": "markdown",
   "metadata": {},
   "source": [
    "With the line of code below, we can get a list of the categorical column in the dataset. We iterate through the columns and check if each element is an object datatype. The result is saved to the \"categorical_columns\" variable\n",
    "as a list."
   ]
  },
  {
   "cell_type": "markdown",
   "metadata": {},
   "source": [
    "### ltt's drop the `Invoice ID` column as checking the unique value does not make any sense.i will use the copied dataframe"
   ]
  },
  {
   "cell_type": "code",
   "execution_count": 25,
   "metadata": {},
   "outputs": [],
   "source": [
    "df_copy.drop('Invoice ID',axis=1,inplace=True)"
   ]
  },
  {
   "cell_type": "code",
   "execution_count": 26,
   "metadata": {},
   "outputs": [
    {
     "data": {
      "text/plain": [
       "['Branch', 'City', 'Customer type', 'Gender', 'Product line', 'Payment']"
      ]
     },
     "execution_count": 26,
     "metadata": {},
     "output_type": "execute_result"
    }
   ],
   "source": [
    "categorical_columns = [col for col in df_copy.columns if df_copy[col].dtype == \"object\" ]\n",
    "categorical_columns"
   ]
  },
  {
   "cell_type": "markdown",
   "metadata": {},
   "source": [
    "#### To-Do- From the information above, generate the unique values in the categorical columns (apart from the example - Branch column).\n",
    "For example, the unique values of the \"Branch\" column is displayed in list, as shown below.\n",
    "<br/>\n",
    "`df['Branch'].unique().tolist()\n",
    "['B', 'C', 'A']`\n",
    "</br>\n",
    "<br/>\n",
    "You can add print formating syntax to print out the total numbers of these values in a particular column. "
   ]
  },
  {
   "cell_type": "code",
   "execution_count": 27,
   "metadata": {
    "scrolled": true
   },
   "outputs": [
    {
     "name": "stdout",
     "output_type": "stream",
     "text": [
      "Branch : ['B', 'A', 'C']\n",
      "City : ['Abuja', 'Lagos', 'Port Harcourt']\n",
      "Customer type : ['Member', 'Normal']\n",
      "Gender : ['Female', 'Male']\n",
      "Product line : ['Food and beverages', 'Fashion accessories', 'Electronic accessories', 'Sports and travel', 'Home and lifestyle', 'Health and beauty']\n",
      "Payment : ['Card', 'Epay', 'Cash']\n"
     ]
    }
   ],
   "source": [
    "#Example - Uncomment the Code and Run it\n",
    "#df['Branch'].unique().tolist()\n",
    "\n",
    "for label,content in df_copy.items():\n",
    "    if pd.api.types.is_string_dtype(content):\n",
    "       print(label,\":\",df_copy[label].unique().tolist())"
   ]
  },
  {
   "cell_type": "code",
   "execution_count": 28,
   "metadata": {},
   "outputs": [
    {
     "name": "stdout",
     "output_type": "stream",
     "text": [
      "Total Number of unique values in the Branch column is: 3\n",
      "Total Number of unique values in the City column is: 3\n",
      "Total Number of unique values in the Customer type column is: 2\n",
      "Total Number of unique values in the Gender column is: 2\n",
      "Total Number of unique values in the Product line column is: 6\n",
      "Total Number of unique values in the Payment column is: 3\n"
     ]
    }
   ],
   "source": [
    "#print(\"Total Number of unique values in the Branch Column : {}\". format(len(df['Branch'].unique().tolist())))\n",
    "for label,content in df_copy.items():\n",
    "    if pd.api.types.is_string_dtype(content):\n",
    "        print(\"Total Number of unique values in the {} column is:\".format(label),len(df_copy[label].unique().tolist()))   "
   ]
  },
  {
   "cell_type": "markdown",
   "metadata": {},
   "source": [
    "#### To-Do: The `value_counts()` function is used to get a Series containing counts of unique values. For the categorical columns above, generate the count figure of the values using the `value_counts() ` method.\n"
   ]
  },
  {
   "cell_type": "code",
   "execution_count": 29,
   "metadata": {},
   "outputs": [
    {
     "name": "stdout",
     "output_type": "stream",
     "text": [
      "Branch : \n",
      " A    340\n",
      "B    332\n",
      "C    328\n",
      "Name: Branch, dtype: int64 \n",
      "\n",
      "City : \n",
      " Lagos            340\n",
      "Abuja            332\n",
      "Port Harcourt    328\n",
      "Name: City, dtype: int64 \n",
      "\n",
      "Customer type : \n",
      " Member    501\n",
      "Normal    499\n",
      "Name: Customer type, dtype: int64 \n",
      "\n",
      "Gender : \n",
      " Female    501\n",
      "Male      499\n",
      "Name: Gender, dtype: int64 \n",
      "\n",
      "Product line : \n",
      " Fashion accessories       178\n",
      "Food and beverages        174\n",
      "Electronic accessories    170\n",
      "Sports and travel         166\n",
      "Home and lifestyle        160\n",
      "Health and beauty         152\n",
      "Name: Product line, dtype: int64 \n",
      "\n",
      "Payment : \n",
      " Epay    345\n",
      "Cash    344\n",
      "Card    311\n",
      "Name: Payment, dtype: int64 \n",
      "\n"
     ]
    }
   ],
   "source": [
    "#Example\n",
    "#df['City'].value_counts()\n",
    "for label,content in df_copy.items():\n",
    "    if pd.api.types.is_string_dtype(content):\n",
    "       print(label,\":\",\"\\n\",df_copy[label].value_counts(),\"\\n\")"
   ]
  },
  {
   "cell_type": "markdown",
   "metadata": {},
   "source": [
    "## Step 5 - Aggregration with GroupBy"
   ]
  },
  {
   "cell_type": "markdown",
   "metadata": {},
   "source": [
    "#### To-Do - Your task here, will be to create a groupby object with the \"City Column\", and aggregation function of sum and mean. "
   ]
  },
  {
   "cell_type": "code",
   "execution_count": 30,
   "metadata": {},
   "outputs": [
    {
     "data": {
      "text/html": [
       "<div>\n",
       "<style scoped>\n",
       "    .dataframe tbody tr th:only-of-type {\n",
       "        vertical-align: middle;\n",
       "    }\n",
       "\n",
       "    .dataframe tbody tr th {\n",
       "        vertical-align: top;\n",
       "    }\n",
       "\n",
       "    .dataframe thead th {\n",
       "        text-align: right;\n",
       "    }\n",
       "</style>\n",
       "<table border=\"1\" class=\"dataframe\">\n",
       "  <thead>\n",
       "    <tr style=\"text-align: right;\">\n",
       "      <th></th>\n",
       "      <th>City</th>\n",
       "      <th>Total</th>\n",
       "    </tr>\n",
       "  </thead>\n",
       "  <tbody>\n",
       "    <tr>\n",
       "      <td>0</td>\n",
       "      <td>Abuja</td>\n",
       "      <td>38231161.92</td>\n",
       "    </tr>\n",
       "    <tr>\n",
       "      <td>1</td>\n",
       "      <td>Lagos</td>\n",
       "      <td>38232133.38</td>\n",
       "    </tr>\n",
       "    <tr>\n",
       "      <td>2</td>\n",
       "      <td>Port Harcourt</td>\n",
       "      <td>39804734.34</td>\n",
       "    </tr>\n",
       "  </tbody>\n",
       "</table>\n",
       "</div>"
      ],
      "text/plain": [
       "            City        Total\n",
       "0          Abuja  38231161.92\n",
       "1          Lagos  38232133.38\n",
       "2  Port Harcourt  39804734.34"
      ]
     },
     "execution_count": 30,
     "metadata": {},
     "output_type": "execute_result"
    }
   ],
   "source": [
    "#[Write your Code Here]\n",
    "city_sum=df.groupby(by='City',as_index=False).agg({'Total':'sum'})\n",
    "city_mean=df.groupby(by='City',as_index=False).mean()\n",
    "city_sum"
   ]
  },
  {
   "cell_type": "code",
   "execution_count": 31,
   "metadata": {},
   "outputs": [
    {
     "data": {
      "text/html": [
       "<div>\n",
       "<style scoped>\n",
       "    .dataframe tbody tr th:only-of-type {\n",
       "        vertical-align: middle;\n",
       "    }\n",
       "\n",
       "    .dataframe tbody tr th {\n",
       "        vertical-align: top;\n",
       "    }\n",
       "\n",
       "    .dataframe thead th {\n",
       "        text-align: right;\n",
       "    }\n",
       "</style>\n",
       "<table border=\"1\" class=\"dataframe\">\n",
       "  <thead>\n",
       "    <tr style=\"text-align: right;\">\n",
       "      <th></th>\n",
       "      <th>City</th>\n",
       "      <th>Unit price</th>\n",
       "      <th>Quantity</th>\n",
       "      <th>Tax 5%</th>\n",
       "      <th>Total</th>\n",
       "      <th>cogs</th>\n",
       "      <th>gross margin percentage</th>\n",
       "      <th>gross income</th>\n",
       "      <th>Rating</th>\n",
       "      <th>Day</th>\n",
       "      <th>Month</th>\n",
       "      <th>year</th>\n",
       "      <th>hour</th>\n",
       "    </tr>\n",
       "  </thead>\n",
       "  <tbody>\n",
       "    <tr>\n",
       "      <td>0</td>\n",
       "      <td>Abuja</td>\n",
       "      <td>20037.339759</td>\n",
       "      <td>5.481928</td>\n",
       "      <td>5483.528675</td>\n",
       "      <td>115154.102169</td>\n",
       "      <td>109670.573494</td>\n",
       "      <td>4.761905</td>\n",
       "      <td>5483.528675</td>\n",
       "      <td>6.818072</td>\n",
       "      <td>15.265060</td>\n",
       "      <td>2.003012</td>\n",
       "      <td>2019.0</td>\n",
       "      <td>15.147590</td>\n",
       "    </tr>\n",
       "    <tr>\n",
       "      <td>1</td>\n",
       "      <td>Lagos</td>\n",
       "      <td>19721.107059</td>\n",
       "      <td>5.467647</td>\n",
       "      <td>5354.640529</td>\n",
       "      <td>112447.451118</td>\n",
       "      <td>107092.810588</td>\n",
       "      <td>4.761905</td>\n",
       "      <td>5354.640529</td>\n",
       "      <td>7.027059</td>\n",
       "      <td>15.388235</td>\n",
       "      <td>2.023529</td>\n",
       "      <td>2019.0</td>\n",
       "      <td>14.667647</td>\n",
       "    </tr>\n",
       "    <tr>\n",
       "      <td>2</td>\n",
       "      <td>Port Harcourt</td>\n",
       "      <td>20379.248780</td>\n",
       "      <td>5.582317</td>\n",
       "      <td>5778.852256</td>\n",
       "      <td>121355.897378</td>\n",
       "      <td>115577.045122</td>\n",
       "      <td>4.761905</td>\n",
       "      <td>5778.852256</td>\n",
       "      <td>7.072866</td>\n",
       "      <td>15.109756</td>\n",
       "      <td>1.951220</td>\n",
       "      <td>2019.0</td>\n",
       "      <td>14.920732</td>\n",
       "    </tr>\n",
       "  </tbody>\n",
       "</table>\n",
       "</div>"
      ],
      "text/plain": [
       "            City    Unit price  Quantity       Tax 5%          Total  \\\n",
       "0          Abuja  20037.339759  5.481928  5483.528675  115154.102169   \n",
       "1          Lagos  19721.107059  5.467647  5354.640529  112447.451118   \n",
       "2  Port Harcourt  20379.248780  5.582317  5778.852256  121355.897378   \n",
       "\n",
       "            cogs  gross margin percentage  gross income    Rating        Day  \\\n",
       "0  109670.573494                 4.761905   5483.528675  6.818072  15.265060   \n",
       "1  107092.810588                 4.761905   5354.640529  7.027059  15.388235   \n",
       "2  115577.045122                 4.761905   5778.852256  7.072866  15.109756   \n",
       "\n",
       "      Month    year       hour  \n",
       "0  2.003012  2019.0  15.147590  \n",
       "1  2.023529  2019.0  14.667647  \n",
       "2  1.951220  2019.0  14.920732  "
      ]
     },
     "execution_count": 31,
     "metadata": {},
     "output_type": "execute_result"
    }
   ],
   "source": [
    "city_mean"
   ]
  },
  {
   "cell_type": "markdown",
   "metadata": {},
   "source": [
    "#### To-Do - Using the groupby object, display a table that shows the gross income of each city, and determine the city with the highest total gross income."
   ]
  },
  {
   "cell_type": "code",
   "execution_count": 32,
   "metadata": {},
   "outputs": [],
   "source": [
    "#[Write your Code Here]\n",
    "city_gross_income=df.groupby(by='City')['gross income'].agg({'Total_gross_income':'sum'}).sort_values(['City'],ascending=False)"
   ]
  },
  {
   "cell_type": "code",
   "execution_count": 33,
   "metadata": {},
   "outputs": [
    {
     "data": {
      "text/html": [
       "<div>\n",
       "<style scoped>\n",
       "    .dataframe tbody tr th:only-of-type {\n",
       "        vertical-align: middle;\n",
       "    }\n",
       "\n",
       "    .dataframe tbody tr th {\n",
       "        vertical-align: top;\n",
       "    }\n",
       "\n",
       "    .dataframe thead th {\n",
       "        text-align: right;\n",
       "    }\n",
       "</style>\n",
       "<table border=\"1\" class=\"dataframe\">\n",
       "  <thead>\n",
       "    <tr style=\"text-align: right;\">\n",
       "      <th></th>\n",
       "      <th>Total_gross_income</th>\n",
       "    </tr>\n",
       "    <tr>\n",
       "      <th>City</th>\n",
       "      <th></th>\n",
       "    </tr>\n",
       "  </thead>\n",
       "  <tbody>\n",
       "    <tr>\n",
       "      <td>Port Harcourt</td>\n",
       "      <td>1895463.54</td>\n",
       "    </tr>\n",
       "    <tr>\n",
       "      <td>Lagos</td>\n",
       "      <td>1820577.78</td>\n",
       "    </tr>\n",
       "    <tr>\n",
       "      <td>Abuja</td>\n",
       "      <td>1820531.52</td>\n",
       "    </tr>\n",
       "  </tbody>\n",
       "</table>\n",
       "</div>"
      ],
      "text/plain": [
       "               Total_gross_income\n",
       "City                             \n",
       "Port Harcourt          1895463.54\n",
       "Lagos                  1820577.78\n",
       "Abuja                  1820531.52"
      ]
     },
     "execution_count": 33,
     "metadata": {},
     "output_type": "execute_result"
    }
   ],
   "source": [
    "# [Write your Answer Here]\n",
    "city_gross_income"
   ]
  },
  {
   "cell_type": "markdown",
   "metadata": {},
   "source": [
    "The city with the total highest gross income is `Port harcourt`"
   ]
  },
  {
   "cell_type": "code",
   "execution_count": 34,
   "metadata": {},
   "outputs": [],
   "source": [
    "# Optional - You can explore other columns such as \"Unit Price\", \"Quantity\" etc. "
   ]
  },
  {
   "cell_type": "markdown",
   "metadata": {},
   "source": [
    "## Step 6 - Data Visualization"
   ]
  },
  {
   "cell_type": "markdown",
   "metadata": {},
   "source": [
    "In this section, you will provide answer to some questions by generating charts and making use of different plotting styles. You will use the `Seaborn visualization` library to generate your plots. For all visualizations, include a chart title by using the seaborn `set_title` method"
   ]
  },
  {
   "cell_type": "markdown",
   "metadata": {},
   "source": [
    "#### To-Do- Using `countplot`, determine the branch with the highest sales record. Optional - You can extend this to determine - most used payment method, city with the most sales"
   ]
  },
  {
   "cell_type": "code",
   "execution_count": 35,
   "metadata": {},
   "outputs": [
    {
     "data": {
      "image/png": "[encoded data removed]",
      "text/plain": [
       "<Figure size 1152x576 with 1 Axes>"
      ]
     },
     "metadata": {
      "needs_background": "light"
     },
     "output_type": "display_data"
    }
   ],
   "source": [
    "#[Write your Code Here]\n",
    "plt.figure(figsize=(16,8))\n",
    "sns.countplot(x='City',data=df)\n",
    "plt.title('Count of sales with respect to cities');"
   ]
  },
  {
   "cell_type": "markdown",
   "metadata": {},
   "source": [
    "#### Explore a countplot for the `Payment` and `City` Column"
   ]
  },
  {
   "cell_type": "code",
   "execution_count": 36,
   "metadata": {},
   "outputs": [
    {
     "data": {
      "image/png": "[encoded data removed]",
      "text/plain": [
       "<Figure size 1152x576 with 1 Axes>"
      ]
     },
     "metadata": {
      "needs_background": "light"
     },
     "output_type": "display_data"
    }
   ],
   "source": [
    "plt.figure(figsize=(16,8))\n",
    "sns.countplot(x='Payment',data=df)\n",
    "plt.title('Count of payment');"
   ]
  },
  {
   "cell_type": "code",
   "execution_count": 37,
   "metadata": {},
   "outputs": [
    {
     "data": {
      "image/png": "[encoded data removed]",
      "text/plain": [
       "<Figure size 864x576 with 1 Axes>"
      ]
     },
     "metadata": {
      "needs_background": "light"
     },
     "output_type": "display_data"
    }
   ],
   "source": [
    "plt.figure(figsize=(12,8))\n",
    "sns.countplot(x='City',hue='Payment',data=df)\n",
    "plt.title('Most used Payment method for each City');\n"
   ]
  },
  {
   "cell_type": "code",
   "execution_count": null,
   "metadata": {},
   "outputs": [],
   "source": []
  },
  {
   "cell_type": "markdown",
   "metadata": {},
   "source": [
    "#### To-Do - Determine the highest & lowest sold product line, using Countplot \n",
    "Count Plot Tips- Set the `Product line` column to y-axis to prevent congestion on the x-axis"
   ]
  },
  {
   "cell_type": "code",
   "execution_count": 38,
   "metadata": {},
   "outputs": [
    {
     "data": {
      "image/png": "[encoded data removed]",
      "text/plain": [
       "<Figure size 720x576 with 1 Axes>"
      ]
     },
     "metadata": {
      "needs_background": "light"
     },
     "output_type": "display_data"
    }
   ],
   "source": [
    "#[Write your Code Here]\n",
    "plt.figure(figsize=(10,8))\n",
    "sns.countplot(y='Product line',data=df)\n",
    "plt.title('Count of various Product line');"
   ]
  },
  {
   "cell_type": "markdown",
   "metadata": {},
   "source": [
    "#### To-Do -  Determine the Payment channel used by most customer to pay for each product line. Count Plot Tips- Set the \"product line\" column to y-axis to prevent congestion on the x-axis, and use the \"hue\" parameter for the \"Payment\" column. "
   ]
  },
  {
   "cell_type": "code",
   "execution_count": 39,
   "metadata": {},
   "outputs": [
    {
     "data": {
      "text/plain": [
       "Text(0.5, 1.0, 'chart of payment channel used by most customer for each product line')"
      ]
     },
     "execution_count": 39,
     "metadata": {},
     "output_type": "execute_result"
    },
    {
     "data": {
      "image/png": "[encoded data removed]",
      "text/plain": [
       "<Figure size 720x576 with 1 Axes>"
      ]
     },
     "metadata": {
      "needs_background": "light"
     },
     "output_type": "display_data"
    }
   ],
   "source": [
    "#[Write your Code Here]\n",
    "plt.figure(figsize=(10,8))\n",
    "sns.countplot(y='Product line',hue='Payment',data=df)\n",
    "plt.title('chart of payment channel used by most customer for each product line')"
   ]
  },
  {
   "cell_type": "markdown",
   "metadata": {},
   "source": [
    "#### To-Do- Determine the Payment channel for each branch.\n",
    "Count Plot Tips - Use the hue parameter for the \"branch\" column"
   ]
  },
  {
   "cell_type": "code",
   "execution_count": 40,
   "metadata": {},
   "outputs": [
    {
     "data": {
      "image/png": "[encoded data removed]",
      "text/plain": [
       "<Figure size 720x576 with 1 Axes>"
      ]
     },
     "metadata": {
      "needs_background": "light"
     },
     "output_type": "display_data"
    }
   ],
   "source": [
    "#[Write your Code Here]\n",
    "plt.figure(figsize=(10,8))\n",
    "sns.countplot(y='Product line',hue='Branch',data=df)\n",
    "plt.title('Count of product line for each Branch');"
   ]
  },
  {
   "cell_type": "markdown",
   "metadata": {},
   "source": [
    "#### To-Do- Determine the branch with the lowest rating. This you can determine using abox plot which gives a statistical summary of the plotted features, and you can pick out the branch with the lowest rating from the plot"
   ]
  },
  {
   "cell_type": "code",
   "execution_count": 41,
   "metadata": {
    "scrolled": true
   },
   "outputs": [
    {
     "data": {
      "image/png": "[encoded data removed]",
      "text/plain": [
       "<Figure size 720x576 with 1 Axes>"
      ]
     },
     "metadata": {
      "needs_background": "light"
     },
     "output_type": "display_data"
    }
   ],
   "source": [
    "#[Write your Code Here]\n",
    "fig,ax=plt.subplots(figsize=(10,8))\n",
    "ax=sns.boxplot(y='Rating',x='Branch',data=df)\n",
    "ax.set(title='plot of cities with their ratings')\n",
    "plt.show();"
   ]
  },
  {
   "cell_type": "code",
   "execution_count": 42,
   "metadata": {},
   "outputs": [
    {
     "data": {
      "text/html": [
       "<div>\n",
       "<style scoped>\n",
       "    .dataframe tbody tr th:only-of-type {\n",
       "        vertical-align: middle;\n",
       "    }\n",
       "\n",
       "    .dataframe tbody tr th {\n",
       "        vertical-align: top;\n",
       "    }\n",
       "\n",
       "    .dataframe thead th {\n",
       "        text-align: right;\n",
       "    }\n",
       "</style>\n",
       "<table border=\"1\" class=\"dataframe\">\n",
       "  <thead>\n",
       "    <tr style=\"text-align: right;\">\n",
       "      <th></th>\n",
       "      <th>0</th>\n",
       "      <th>1</th>\n",
       "      <th>2</th>\n",
       "      <th>3</th>\n",
       "      <th>4</th>\n",
       "      <th>5</th>\n",
       "      <th>6</th>\n",
       "      <th>7</th>\n",
       "      <th>8</th>\n",
       "      <th>9</th>\n",
       "      <th>...</th>\n",
       "      <th>990</th>\n",
       "      <th>991</th>\n",
       "      <th>992</th>\n",
       "      <th>993</th>\n",
       "      <th>994</th>\n",
       "      <th>995</th>\n",
       "      <th>996</th>\n",
       "      <th>997</th>\n",
       "      <th>998</th>\n",
       "      <th>999</th>\n",
       "    </tr>\n",
       "  </thead>\n",
       "  <tbody>\n",
       "    <tr>\n",
       "      <td>Invoice ID</td>\n",
       "      <td>692-92-5582</td>\n",
       "      <td>351-62-0822</td>\n",
       "      <td>529-56-3974</td>\n",
       "      <td>299-46-1805</td>\n",
       "      <td>319-50-3348</td>\n",
       "      <td>371-85-5789</td>\n",
       "      <td>273-16-6619</td>\n",
       "      <td>649-29-6775</td>\n",
       "      <td>145-94-9061</td>\n",
       "      <td>871-79-8483</td>\n",
       "      <td>...</td>\n",
       "      <td>867-47-1948</td>\n",
       "      <td>256-58-3609</td>\n",
       "      <td>364-34-2972</td>\n",
       "      <td>744-82-9138</td>\n",
       "      <td>728-47-9078</td>\n",
       "      <td>148-41-7930</td>\n",
       "      <td>189-40-5216</td>\n",
       "      <td>267-62-7380</td>\n",
       "      <td>652-49-6720</td>\n",
       "      <td>233-67-5758</td>\n",
       "    </tr>\n",
       "    <tr>\n",
       "      <td>Branch</td>\n",
       "      <td>B</td>\n",
       "      <td>B</td>\n",
       "      <td>B</td>\n",
       "      <td>B</td>\n",
       "      <td>B</td>\n",
       "      <td>B</td>\n",
       "      <td>B</td>\n",
       "      <td>B</td>\n",
       "      <td>B</td>\n",
       "      <td>B</td>\n",
       "      <td>...</td>\n",
       "      <td>C</td>\n",
       "      <td>C</td>\n",
       "      <td>C</td>\n",
       "      <td>C</td>\n",
       "      <td>C</td>\n",
       "      <td>C</td>\n",
       "      <td>C</td>\n",
       "      <td>C</td>\n",
       "      <td>C</td>\n",
       "      <td>C</td>\n",
       "    </tr>\n",
       "    <tr>\n",
       "      <td>City</td>\n",
       "      <td>Abuja</td>\n",
       "      <td>Abuja</td>\n",
       "      <td>Abuja</td>\n",
       "      <td>Abuja</td>\n",
       "      <td>Abuja</td>\n",
       "      <td>Abuja</td>\n",
       "      <td>Abuja</td>\n",
       "      <td>Abuja</td>\n",
       "      <td>Abuja</td>\n",
       "      <td>Abuja</td>\n",
       "      <td>...</td>\n",
       "      <td>Port Harcourt</td>\n",
       "      <td>Port Harcourt</td>\n",
       "      <td>Port Harcourt</td>\n",
       "      <td>Port Harcourt</td>\n",
       "      <td>Port Harcourt</td>\n",
       "      <td>Port Harcourt</td>\n",
       "      <td>Port Harcourt</td>\n",
       "      <td>Port Harcourt</td>\n",
       "      <td>Port Harcourt</td>\n",
       "      <td>Port Harcourt</td>\n",
       "    </tr>\n",
       "    <tr>\n",
       "      <td>Customer type</td>\n",
       "      <td>Member</td>\n",
       "      <td>Member</td>\n",
       "      <td>Member</td>\n",
       "      <td>Member</td>\n",
       "      <td>Normal</td>\n",
       "      <td>Normal</td>\n",
       "      <td>Normal</td>\n",
       "      <td>Normal</td>\n",
       "      <td>Normal</td>\n",
       "      <td>Normal</td>\n",
       "      <td>...</td>\n",
       "      <td>Normal</td>\n",
       "      <td>Member</td>\n",
       "      <td>Member</td>\n",
       "      <td>Normal</td>\n",
       "      <td>Member</td>\n",
       "      <td>Normal</td>\n",
       "      <td>Normal</td>\n",
       "      <td>Member</td>\n",
       "      <td>Member</td>\n",
       "      <td>Normal</td>\n",
       "    </tr>\n",
       "    <tr>\n",
       "      <td>Gender</td>\n",
       "      <td>Female</td>\n",
       "      <td>Female</td>\n",
       "      <td>Male</td>\n",
       "      <td>Female</td>\n",
       "      <td>Female</td>\n",
       "      <td>Male</td>\n",
       "      <td>Male</td>\n",
       "      <td>Male</td>\n",
       "      <td>Female</td>\n",
       "      <td>Male</td>\n",
       "      <td>...</td>\n",
       "      <td>Female</td>\n",
       "      <td>Male</td>\n",
       "      <td>Male</td>\n",
       "      <td>Male</td>\n",
       "      <td>Male</td>\n",
       "      <td>Male</td>\n",
       "      <td>Male</td>\n",
       "      <td>Male</td>\n",
       "      <td>Female</td>\n",
       "      <td>Male</td>\n",
       "    </tr>\n",
       "    <tr>\n",
       "      <td>Product line</td>\n",
       "      <td>Food and beverages</td>\n",
       "      <td>Fashion accessories</td>\n",
       "      <td>Electronic accessories</td>\n",
       "      <td>Sports and travel</td>\n",
       "      <td>Home and lifestyle</td>\n",
       "      <td>Health and beauty</td>\n",
       "      <td>Home and lifestyle</td>\n",
       "      <td>Fashion accessories</td>\n",
       "      <td>Food and beverages</td>\n",
       "      <td>Fashion accessories</td>\n",
       "      <td>...</td>\n",
       "      <td>Home and lifestyle</td>\n",
       "      <td>Fashion accessories</td>\n",
       "      <td>Electronic accessories</td>\n",
       "      <td>Fashion accessories</td>\n",
       "      <td>Food and beverages</td>\n",
       "      <td>Health and beauty</td>\n",
       "      <td>Electronic accessories</td>\n",
       "      <td>Electronic accessories</td>\n",
       "      <td>Electronic accessories</td>\n",
       "      <td>Health and beauty</td>\n",
       "    </tr>\n",
       "    <tr>\n",
       "      <td>Unit price</td>\n",
       "      <td>19742.4</td>\n",
       "      <td>5212.8</td>\n",
       "      <td>9183.6</td>\n",
       "      <td>33739.2</td>\n",
       "      <td>14508</td>\n",
       "      <td>31672.8</td>\n",
       "      <td>11952</td>\n",
       "      <td>12067.2</td>\n",
       "      <td>31809.6</td>\n",
       "      <td>33886.8</td>\n",
       "      <td>...</td>\n",
       "      <td>5688</td>\n",
       "      <td>33112.8</td>\n",
       "      <td>34855.2</td>\n",
       "      <td>31006.8</td>\n",
       "      <td>21452.4</td>\n",
       "      <td>35985.6</td>\n",
       "      <td>34693.2</td>\n",
       "      <td>29642.4</td>\n",
       "      <td>21942</td>\n",
       "      <td>14526</td>\n",
       "    </tr>\n",
       "    <tr>\n",
       "      <td>Quantity</td>\n",
       "      <td>3</td>\n",
       "      <td>4</td>\n",
       "      <td>4</td>\n",
       "      <td>6</td>\n",
       "      <td>2</td>\n",
       "      <td>3</td>\n",
       "      <td>2</td>\n",
       "      <td>1</td>\n",
       "      <td>5</td>\n",
       "      <td>5</td>\n",
       "      <td>...</td>\n",
       "      <td>10</td>\n",
       "      <td>1</td>\n",
       "      <td>3</td>\n",
       "      <td>2</td>\n",
       "      <td>4</td>\n",
       "      <td>7</td>\n",
       "      <td>7</td>\n",
       "      <td>10</td>\n",
       "      <td>1</td>\n",
       "      <td>1</td>\n",
       "    </tr>\n",
       "    <tr>\n",
       "      <td>Tax 5%</td>\n",
       "      <td>2961.36</td>\n",
       "      <td>1042.56</td>\n",
       "      <td>1836.72</td>\n",
       "      <td>10121.8</td>\n",
       "      <td>1450.8</td>\n",
       "      <td>4750.92</td>\n",
       "      <td>1195.2</td>\n",
       "      <td>603.36</td>\n",
       "      <td>7952.4</td>\n",
       "      <td>8471.7</td>\n",
       "      <td>...</td>\n",
       "      <td>2844</td>\n",
       "      <td>1655.64</td>\n",
       "      <td>5228.28</td>\n",
       "      <td>3100.68</td>\n",
       "      <td>4290.48</td>\n",
       "      <td>12595</td>\n",
       "      <td>12142.6</td>\n",
       "      <td>14821.2</td>\n",
       "      <td>1097.1</td>\n",
       "      <td>726.3</td>\n",
       "    </tr>\n",
       "    <tr>\n",
       "      <td>Total</td>\n",
       "      <td>62188.6</td>\n",
       "      <td>21893.8</td>\n",
       "      <td>38571.1</td>\n",
       "      <td>212557</td>\n",
       "      <td>30466.8</td>\n",
       "      <td>99769.3</td>\n",
       "      <td>25099.2</td>\n",
       "      <td>12670.6</td>\n",
       "      <td>167000</td>\n",
       "      <td>177906</td>\n",
       "      <td>...</td>\n",
       "      <td>59724</td>\n",
       "      <td>34768.4</td>\n",
       "      <td>109794</td>\n",
       "      <td>65114.3</td>\n",
       "      <td>90100.1</td>\n",
       "      <td>264494</td>\n",
       "      <td>254995</td>\n",
       "      <td>311245</td>\n",
       "      <td>23039.1</td>\n",
       "      <td>15252.3</td>\n",
       "    </tr>\n",
       "    <tr>\n",
       "      <td>Payment</td>\n",
       "      <td>Card</td>\n",
       "      <td>Epay</td>\n",
       "      <td>Cash</td>\n",
       "      <td>Cash</td>\n",
       "      <td>Epay</td>\n",
       "      <td>Epay</td>\n",
       "      <td>Card</td>\n",
       "      <td>Cash</td>\n",
       "      <td>Cash</td>\n",
       "      <td>Card</td>\n",
       "      <td>...</td>\n",
       "      <td>Cash</td>\n",
       "      <td>Cash</td>\n",
       "      <td>Cash</td>\n",
       "      <td>Cash</td>\n",
       "      <td>Cash</td>\n",
       "      <td>Cash</td>\n",
       "      <td>Cash</td>\n",
       "      <td>Epay</td>\n",
       "      <td>Epay</td>\n",
       "      <td>Epay</td>\n",
       "    </tr>\n",
       "    <tr>\n",
       "      <td>cogs</td>\n",
       "      <td>59227.2</td>\n",
       "      <td>20851.2</td>\n",
       "      <td>36734.4</td>\n",
       "      <td>202435</td>\n",
       "      <td>29016</td>\n",
       "      <td>95018.4</td>\n",
       "      <td>23904</td>\n",
       "      <td>12067.2</td>\n",
       "      <td>159048</td>\n",
       "      <td>169434</td>\n",
       "      <td>...</td>\n",
       "      <td>56880</td>\n",
       "      <td>33112.8</td>\n",
       "      <td>104566</td>\n",
       "      <td>62013.6</td>\n",
       "      <td>85809.6</td>\n",
       "      <td>251899</td>\n",
       "      <td>242852</td>\n",
       "      <td>296424</td>\n",
       "      <td>21942</td>\n",
       "      <td>14526</td>\n",
       "    </tr>\n",
       "    <tr>\n",
       "      <td>gross margin percentage</td>\n",
       "      <td>4.7619</td>\n",
       "      <td>4.7619</td>\n",
       "      <td>4.7619</td>\n",
       "      <td>4.7619</td>\n",
       "      <td>4.7619</td>\n",
       "      <td>4.7619</td>\n",
       "      <td>4.7619</td>\n",
       "      <td>4.7619</td>\n",
       "      <td>4.7619</td>\n",
       "      <td>4.7619</td>\n",
       "      <td>...</td>\n",
       "      <td>4.7619</td>\n",
       "      <td>4.7619</td>\n",
       "      <td>4.7619</td>\n",
       "      <td>4.7619</td>\n",
       "      <td>4.7619</td>\n",
       "      <td>4.7619</td>\n",
       "      <td>4.7619</td>\n",
       "      <td>4.7619</td>\n",
       "      <td>4.7619</td>\n",
       "      <td>4.7619</td>\n",
       "    </tr>\n",
       "    <tr>\n",
       "      <td>gross income</td>\n",
       "      <td>2961.36</td>\n",
       "      <td>1042.56</td>\n",
       "      <td>1836.72</td>\n",
       "      <td>10121.8</td>\n",
       "      <td>1450.8</td>\n",
       "      <td>4750.92</td>\n",
       "      <td>1195.2</td>\n",
       "      <td>603.36</td>\n",
       "      <td>7952.4</td>\n",
       "      <td>8471.7</td>\n",
       "      <td>...</td>\n",
       "      <td>2844</td>\n",
       "      <td>1655.64</td>\n",
       "      <td>5228.28</td>\n",
       "      <td>3100.68</td>\n",
       "      <td>4290.48</td>\n",
       "      <td>12595</td>\n",
       "      <td>12142.6</td>\n",
       "      <td>14821.2</td>\n",
       "      <td>1097.1</td>\n",
       "      <td>726.3</td>\n",
       "    </tr>\n",
       "    <tr>\n",
       "      <td>Rating</td>\n",
       "      <td>5.9</td>\n",
       "      <td>4.5</td>\n",
       "      <td>6.8</td>\n",
       "      <td>4.5</td>\n",
       "      <td>4.4</td>\n",
       "      <td>5.1</td>\n",
       "      <td>4.4</td>\n",
       "      <td>6.7</td>\n",
       "      <td>9.6</td>\n",
       "      <td>4.8</td>\n",
       "      <td>...</td>\n",
       "      <td>7.8</td>\n",
       "      <td>9.8</td>\n",
       "      <td>6.7</td>\n",
       "      <td>8.2</td>\n",
       "      <td>9.8</td>\n",
       "      <td>6.1</td>\n",
       "      <td>6</td>\n",
       "      <td>4.3</td>\n",
       "      <td>5.9</td>\n",
       "      <td>6.2</td>\n",
       "    </tr>\n",
       "    <tr>\n",
       "      <td>Day</td>\n",
       "      <td>20</td>\n",
       "      <td>6</td>\n",
       "      <td>9</td>\n",
       "      <td>15</td>\n",
       "      <td>11</td>\n",
       "      <td>5</td>\n",
       "      <td>15</td>\n",
       "      <td>8</td>\n",
       "      <td>25</td>\n",
       "      <td>25</td>\n",
       "      <td>...</td>\n",
       "      <td>9</td>\n",
       "      <td>18</td>\n",
       "      <td>30</td>\n",
       "      <td>7</td>\n",
       "      <td>19</td>\n",
       "      <td>23</td>\n",
       "      <td>9</td>\n",
       "      <td>29</td>\n",
       "      <td>18</td>\n",
       "      <td>29</td>\n",
       "    </tr>\n",
       "    <tr>\n",
       "      <td>Month</td>\n",
       "      <td>2</td>\n",
       "      <td>2</td>\n",
       "      <td>3</td>\n",
       "      <td>1</td>\n",
       "      <td>3</td>\n",
       "      <td>3</td>\n",
       "      <td>3</td>\n",
       "      <td>2</td>\n",
       "      <td>1</td>\n",
       "      <td>2</td>\n",
       "      <td>...</td>\n",
       "      <td>1</td>\n",
       "      <td>3</td>\n",
       "      <td>3</td>\n",
       "      <td>2</td>\n",
       "      <td>1</td>\n",
       "      <td>1</td>\n",
       "      <td>1</td>\n",
       "      <td>3</td>\n",
       "      <td>2</td>\n",
       "      <td>1</td>\n",
       "    </tr>\n",
       "    <tr>\n",
       "      <td>year</td>\n",
       "      <td>2019</td>\n",
       "      <td>2019</td>\n",
       "      <td>2019</td>\n",
       "      <td>2019</td>\n",
       "      <td>2019</td>\n",
       "      <td>2019</td>\n",
       "      <td>2019</td>\n",
       "      <td>2019</td>\n",
       "      <td>2019</td>\n",
       "      <td>2019</td>\n",
       "      <td>...</td>\n",
       "      <td>2019</td>\n",
       "      <td>2019</td>\n",
       "      <td>2019</td>\n",
       "      <td>2019</td>\n",
       "      <td>2019</td>\n",
       "      <td>2019</td>\n",
       "      <td>2019</td>\n",
       "      <td>2019</td>\n",
       "      <td>2019</td>\n",
       "      <td>2019</td>\n",
       "    </tr>\n",
       "    <tr>\n",
       "      <td>hour</td>\n",
       "      <td>13</td>\n",
       "      <td>18</td>\n",
       "      <td>17</td>\n",
       "      <td>16</td>\n",
       "      <td>15</td>\n",
       "      <td>10</td>\n",
       "      <td>12</td>\n",
       "      <td>15</td>\n",
       "      <td>19</td>\n",
       "      <td>19</td>\n",
       "      <td>...</td>\n",
       "      <td>12</td>\n",
       "      <td>15</td>\n",
       "      <td>20</td>\n",
       "      <td>17</td>\n",
       "      <td>12</td>\n",
       "      <td>10</td>\n",
       "      <td>11</td>\n",
       "      <td>19</td>\n",
       "      <td>11</td>\n",
       "      <td>13</td>\n",
       "    </tr>\n",
       "  </tbody>\n",
       "</table>\n",
       "<p>19 rows × 1000 columns</p>\n",
       "</div>"
      ],
      "text/plain": [
       "                                        0                    1    \\\n",
       "Invoice ID                      692-92-5582          351-62-0822   \n",
       "Branch                                    B                    B   \n",
       "City                                  Abuja                Abuja   \n",
       "Customer type                        Member               Member   \n",
       "Gender                               Female               Female   \n",
       "Product line             Food and beverages  Fashion accessories   \n",
       "Unit price                          19742.4               5212.8   \n",
       "Quantity                                  3                    4   \n",
       "Tax 5%                              2961.36              1042.56   \n",
       "Total                               62188.6              21893.8   \n",
       "Payment                                Card                 Epay   \n",
       "cogs                                59227.2              20851.2   \n",
       "gross margin percentage              4.7619               4.7619   \n",
       "gross income                        2961.36              1042.56   \n",
       "Rating                                  5.9                  4.5   \n",
       "Day                                      20                    6   \n",
       "Month                                     2                    2   \n",
       "year                                   2019                 2019   \n",
       "hour                                     13                   18   \n",
       "\n",
       "                                            2                  3    \\\n",
       "Invoice ID                          529-56-3974        299-46-1805   \n",
       "Branch                                        B                  B   \n",
       "City                                      Abuja              Abuja   \n",
       "Customer type                            Member             Member   \n",
       "Gender                                     Male             Female   \n",
       "Product line             Electronic accessories  Sports and travel   \n",
       "Unit price                               9183.6            33739.2   \n",
       "Quantity                                      4                  6   \n",
       "Tax 5%                                  1836.72            10121.8   \n",
       "Total                                   38571.1             212557   \n",
       "Payment                                    Cash               Cash   \n",
       "cogs                                    36734.4             202435   \n",
       "gross margin percentage                  4.7619             4.7619   \n",
       "gross income                            1836.72            10121.8   \n",
       "Rating                                      6.8                4.5   \n",
       "Day                                           9                 15   \n",
       "Month                                         3                  1   \n",
       "year                                       2019               2019   \n",
       "hour                                         17                 16   \n",
       "\n",
       "                                        4                  5    \\\n",
       "Invoice ID                      319-50-3348        371-85-5789   \n",
       "Branch                                    B                  B   \n",
       "City                                  Abuja              Abuja   \n",
       "Customer type                        Normal             Normal   \n",
       "Gender                               Female               Male   \n",
       "Product line             Home and lifestyle  Health and beauty   \n",
       "Unit price                            14508            31672.8   \n",
       "Quantity                                  2                  3   \n",
       "Tax 5%                               1450.8            4750.92   \n",
       "Total                               30466.8            99769.3   \n",
       "Payment                                Epay               Epay   \n",
       "cogs                                  29016            95018.4   \n",
       "gross margin percentage              4.7619             4.7619   \n",
       "gross income                         1450.8            4750.92   \n",
       "Rating                                  4.4                5.1   \n",
       "Day                                      11                  5   \n",
       "Month                                     3                  3   \n",
       "year                                   2019               2019   \n",
       "hour                                     15                 10   \n",
       "\n",
       "                                        6                    7    \\\n",
       "Invoice ID                      273-16-6619          649-29-6775   \n",
       "Branch                                    B                    B   \n",
       "City                                  Abuja                Abuja   \n",
       "Customer type                        Normal               Normal   \n",
       "Gender                                 Male                 Male   \n",
       "Product line             Home and lifestyle  Fashion accessories   \n",
       "Unit price                            11952              12067.2   \n",
       "Quantity                                  2                    1   \n",
       "Tax 5%                               1195.2               603.36   \n",
       "Total                               25099.2              12670.6   \n",
       "Payment                                Card                 Cash   \n",
       "cogs                                  23904              12067.2   \n",
       "gross margin percentage              4.7619               4.7619   \n",
       "gross income                         1195.2               603.36   \n",
       "Rating                                  4.4                  6.7   \n",
       "Day                                      15                    8   \n",
       "Month                                     3                    2   \n",
       "year                                   2019                 2019   \n",
       "hour                                     12                   15   \n",
       "\n",
       "                                        8                    9    ...  \\\n",
       "Invoice ID                      145-94-9061          871-79-8483  ...   \n",
       "Branch                                    B                    B  ...   \n",
       "City                                  Abuja                Abuja  ...   \n",
       "Customer type                        Normal               Normal  ...   \n",
       "Gender                               Female                 Male  ...   \n",
       "Product line             Food and beverages  Fashion accessories  ...   \n",
       "Unit price                          31809.6              33886.8  ...   \n",
       "Quantity                                  5                    5  ...   \n",
       "Tax 5%                               7952.4               8471.7  ...   \n",
       "Total                                167000               177906  ...   \n",
       "Payment                                Cash                 Card  ...   \n",
       "cogs                                 159048               169434  ...   \n",
       "gross margin percentage              4.7619               4.7619  ...   \n",
       "gross income                         7952.4               8471.7  ...   \n",
       "Rating                                  9.6                  4.8  ...   \n",
       "Day                                      25                   25  ...   \n",
       "Month                                     1                    2  ...   \n",
       "year                                   2019                 2019  ...   \n",
       "hour                                     19                   19  ...   \n",
       "\n",
       "                                        990                  991  \\\n",
       "Invoice ID                      867-47-1948          256-58-3609   \n",
       "Branch                                    C                    C   \n",
       "City                          Port Harcourt        Port Harcourt   \n",
       "Customer type                        Normal               Member   \n",
       "Gender                               Female                 Male   \n",
       "Product line             Home and lifestyle  Fashion accessories   \n",
       "Unit price                             5688              33112.8   \n",
       "Quantity                                 10                    1   \n",
       "Tax 5%                                 2844              1655.64   \n",
       "Total                                 59724              34768.4   \n",
       "Payment                                Cash                 Cash   \n",
       "cogs                                  56880              33112.8   \n",
       "gross margin percentage              4.7619               4.7619   \n",
       "gross income                           2844              1655.64   \n",
       "Rating                                  7.8                  9.8   \n",
       "Day                                       9                   18   \n",
       "Month                                     1                    3   \n",
       "year                                   2019                 2019   \n",
       "hour                                     12                   15   \n",
       "\n",
       "                                            992                  993  \\\n",
       "Invoice ID                          364-34-2972          744-82-9138   \n",
       "Branch                                        C                    C   \n",
       "City                              Port Harcourt        Port Harcourt   \n",
       "Customer type                            Member               Normal   \n",
       "Gender                                     Male                 Male   \n",
       "Product line             Electronic accessories  Fashion accessories   \n",
       "Unit price                              34855.2              31006.8   \n",
       "Quantity                                      3                    2   \n",
       "Tax 5%                                  5228.28              3100.68   \n",
       "Total                                    109794              65114.3   \n",
       "Payment                                    Cash                 Cash   \n",
       "cogs                                     104566              62013.6   \n",
       "gross margin percentage                  4.7619               4.7619   \n",
       "gross income                            5228.28              3100.68   \n",
       "Rating                                      6.7                  8.2   \n",
       "Day                                          30                    7   \n",
       "Month                                         3                    2   \n",
       "year                                       2019                 2019   \n",
       "hour                                         20                   17   \n",
       "\n",
       "                                        994                995  \\\n",
       "Invoice ID                      728-47-9078        148-41-7930   \n",
       "Branch                                    C                  C   \n",
       "City                          Port Harcourt      Port Harcourt   \n",
       "Customer type                        Member             Normal   \n",
       "Gender                                 Male               Male   \n",
       "Product line             Food and beverages  Health and beauty   \n",
       "Unit price                          21452.4            35985.6   \n",
       "Quantity                                  4                  7   \n",
       "Tax 5%                              4290.48              12595   \n",
       "Total                               90100.1             264494   \n",
       "Payment                                Cash               Cash   \n",
       "cogs                                85809.6             251899   \n",
       "gross margin percentage              4.7619             4.7619   \n",
       "gross income                        4290.48              12595   \n",
       "Rating                                  9.8                6.1   \n",
       "Day                                      19                 23   \n",
       "Month                                     1                  1   \n",
       "year                                   2019               2019   \n",
       "hour                                     12                 10   \n",
       "\n",
       "                                            996                     997  \\\n",
       "Invoice ID                          189-40-5216             267-62-7380   \n",
       "Branch                                        C                       C   \n",
       "City                              Port Harcourt           Port Harcourt   \n",
       "Customer type                            Normal                  Member   \n",
       "Gender                                     Male                    Male   \n",
       "Product line             Electronic accessories  Electronic accessories   \n",
       "Unit price                              34693.2                 29642.4   \n",
       "Quantity                                      7                      10   \n",
       "Tax 5%                                  12142.6                 14821.2   \n",
       "Total                                    254995                  311245   \n",
       "Payment                                    Cash                    Epay   \n",
       "cogs                                     242852                  296424   \n",
       "gross margin percentage                  4.7619                  4.7619   \n",
       "gross income                            12142.6                 14821.2   \n",
       "Rating                                        6                     4.3   \n",
       "Day                                           9                      29   \n",
       "Month                                         1                       3   \n",
       "year                                       2019                    2019   \n",
       "hour                                         11                      19   \n",
       "\n",
       "                                            998                999  \n",
       "Invoice ID                          652-49-6720        233-67-5758  \n",
       "Branch                                        C                  C  \n",
       "City                              Port Harcourt      Port Harcourt  \n",
       "Customer type                            Member             Normal  \n",
       "Gender                                   Female               Male  \n",
       "Product line             Electronic accessories  Health and beauty  \n",
       "Unit price                                21942              14526  \n",
       "Quantity                                      1                  1  \n",
       "Tax 5%                                   1097.1              726.3  \n",
       "Total                                   23039.1            15252.3  \n",
       "Payment                                    Epay               Epay  \n",
       "cogs                                      21942              14526  \n",
       "gross margin percentage                  4.7619             4.7619  \n",
       "gross income                             1097.1              726.3  \n",
       "Rating                                      5.9                6.2  \n",
       "Day                                          18                 29  \n",
       "Month                                         2                  1  \n",
       "year                                       2019               2019  \n",
       "hour                                         11                 13  \n",
       "\n",
       "[19 rows x 1000 columns]"
      ]
     },
     "execution_count": 42,
     "metadata": {},
     "output_type": "execute_result"
    }
   ],
   "source": [
    "# Transposing the data frame to be able to view all the features\n",
    "df.T"
   ]
  },
  {
   "cell_type": "markdown",
   "metadata": {},
   "source": [
    "#### To-Do - The gender type often affects the kind of products being purchased at the supermarket. \n",
    "* Using a catplot() generate visualization for the \"product line\" on x-axis, quantity on the y-axis, and hue as gender. \n",
    "<br/>\n",
    "\n",
    "#### Set the aspect parameter to 4, so can you can effectively space out each product line. \n",
    "\n",
    "\n",
    "\n",
    "* Plot the same chart, but `Total Column` as the y-axis\n",
    "\n",
    "* Write a summary of the insights you can pick from this chart."
   ]
  },
  {
   "cell_type": "code",
   "execution_count": 43,
   "metadata": {},
   "outputs": [
    {
     "data": {
      "image/png": "[encoded data removed]",
      "text/plain": [
       "<Figure size 1512.62x360 with 1 Axes>"
      ]
     },
     "metadata": {
      "needs_background": "light"
     },
     "output_type": "display_data"
    }
   ],
   "source": [
    "#[Write your Code Here]\n",
    "#fig,ax=plt.subplots(figsize=(10,8))\n",
    "ax=sns.catplot(x='Product line',\n",
    "            y='Quantity',\n",
    "            hue='Gender',\n",
    "            data=df,\n",
    "            aspect=4\n",
    "           )\n",
    "ax.set(title='Plot of product line against Quantity');"
   ]
  },
  {
   "cell_type": "code",
   "execution_count": 44,
   "metadata": {},
   "outputs": [
    {
     "data": {
      "image/png": "[encoded data removed]",
      "text/plain": [
       "<Figure size 1512.62x360 with 1 Axes>"
      ]
     },
     "metadata": {
      "needs_background": "light"
     },
     "output_type": "display_data"
    }
   ],
   "source": [
    "#[Write your Code Here]\n",
    "ax=sns.catplot(x='Product line',\n",
    "            y='Total',\n",
    "            hue='Gender',\n",
    "            data=df,\n",
    "            aspect=4\n",
    "           )\n",
    "ax.set(title='Plot of product line against Total');"
   ]
  },
  {
   "cell_type": "markdown",
   "metadata": {},
   "source": [
    "#### To-Do -  An interesting insight to explore is the interaction of Unit price on the Quantity of goods purchased. To achieve this: \n",
    "* Use the `catplot()` to plot `Product line per unit price`, and `Product line per Quantity`. Set the kind parameter to `point` \n",
    "* In a new cell, Write a summary of the insights you uncovered"
   ]
  },
  {
   "cell_type": "code",
   "execution_count": 45,
   "metadata": {},
   "outputs": [
    {
     "data": {
      "text/html": [
       "<div>\n",
       "<style scoped>\n",
       "    .dataframe tbody tr th:only-of-type {\n",
       "        vertical-align: middle;\n",
       "    }\n",
       "\n",
       "    .dataframe tbody tr th {\n",
       "        vertical-align: top;\n",
       "    }\n",
       "\n",
       "    .dataframe thead th {\n",
       "        text-align: right;\n",
       "    }\n",
       "</style>\n",
       "<table border=\"1\" class=\"dataframe\">\n",
       "  <thead>\n",
       "    <tr style=\"text-align: right;\">\n",
       "      <th></th>\n",
       "      <th>Product line</th>\n",
       "      <th>Unit price</th>\n",
       "    </tr>\n",
       "  </thead>\n",
       "  <tbody>\n",
       "    <tr>\n",
       "      <td>0</td>\n",
       "      <td>Electronic accessories</td>\n",
       "      <td>3277357.2</td>\n",
       "    </tr>\n",
       "    <tr>\n",
       "      <td>1</td>\n",
       "      <td>Fashion accessories</td>\n",
       "      <td>3662406.0</td>\n",
       "    </tr>\n",
       "    <tr>\n",
       "      <td>2</td>\n",
       "      <td>Food and beverages</td>\n",
       "      <td>3508394.4</td>\n",
       "    </tr>\n",
       "    <tr>\n",
       "      <td>3</td>\n",
       "      <td>Health and beauty</td>\n",
       "      <td>3001636.8</td>\n",
       "    </tr>\n",
       "    <tr>\n",
       "      <td>4</td>\n",
       "      <td>Home and lifestyle</td>\n",
       "      <td>3186255.6</td>\n",
       "    </tr>\n",
       "    <tr>\n",
       "      <td>5</td>\n",
       "      <td>Sports and travel</td>\n",
       "      <td>3405916.8</td>\n",
       "    </tr>\n",
       "  </tbody>\n",
       "</table>\n",
       "</div>"
      ],
      "text/plain": [
       "             Product line  Unit price\n",
       "0  Electronic accessories   3277357.2\n",
       "1     Fashion accessories   3662406.0\n",
       "2      Food and beverages   3508394.4\n",
       "3       Health and beauty   3001636.8\n",
       "4      Home and lifestyle   3186255.6\n",
       "5       Sports and travel   3405916.8"
      ]
     },
     "execution_count": 45,
     "metadata": {},
     "output_type": "execute_result"
    }
   ],
   "source": [
    "data1=df.groupby(['Product line'])['Unit price'].sum().reset_index()\n",
    "data1"
   ]
  },
  {
   "cell_type": "code",
   "execution_count": 46,
   "metadata": {},
   "outputs": [
    {
     "data": {
      "text/plain": [
       "Text(0.5, 1, 'Unit price for each product line')"
      ]
     },
     "execution_count": 46,
     "metadata": {},
     "output_type": "execute_result"
    },
    {
     "data": {
      "text/plain": [
       "<Figure size 1152x1152 with 0 Axes>"
      ]
     },
     "metadata": {},
     "output_type": "display_data"
    },
    {
     "data": {
      "image/png": "[encoded data removed]",
      "text/plain": [
       "<Figure size 360x360 with 1 Axes>"
      ]
     },
     "metadata": {
      "needs_background": "light"
     },
     "output_type": "display_data"
    }
   ],
   "source": [
    "#[Write your Code Here]\n",
    "plt.figure(figsize=(16,16))\n",
    "sns.catplot(y='Product line',x='Unit price',data=data1,kind='point')\n",
    "plt.title('Unit price for each product line')"
   ]
  },
  {
   "cell_type": "markdown",
   "metadata": {},
   "source": [
    "#### Insights from the above chart:\n",
    "*  It is seen that ***Fashion accessories*** has the highest ***Unit price*** followed by ***Food and beverages*** "
   ]
  },
  {
   "cell_type": "code",
   "execution_count": 47,
   "metadata": {},
   "outputs": [
    {
     "data": {
      "text/html": [
       "<div>\n",
       "<style scoped>\n",
       "    .dataframe tbody tr th:only-of-type {\n",
       "        vertical-align: middle;\n",
       "    }\n",
       "\n",
       "    .dataframe tbody tr th {\n",
       "        vertical-align: top;\n",
       "    }\n",
       "\n",
       "    .dataframe thead th {\n",
       "        text-align: right;\n",
       "    }\n",
       "</style>\n",
       "<table border=\"1\" class=\"dataframe\">\n",
       "  <thead>\n",
       "    <tr style=\"text-align: right;\">\n",
       "      <th></th>\n",
       "      <th>Product line</th>\n",
       "      <th>Quantity</th>\n",
       "    </tr>\n",
       "  </thead>\n",
       "  <tbody>\n",
       "    <tr>\n",
       "      <td>0</td>\n",
       "      <td>Electronic accessories</td>\n",
       "      <td>971</td>\n",
       "    </tr>\n",
       "    <tr>\n",
       "      <td>1</td>\n",
       "      <td>Fashion accessories</td>\n",
       "      <td>902</td>\n",
       "    </tr>\n",
       "    <tr>\n",
       "      <td>2</td>\n",
       "      <td>Food and beverages</td>\n",
       "      <td>952</td>\n",
       "    </tr>\n",
       "    <tr>\n",
       "      <td>3</td>\n",
       "      <td>Health and beauty</td>\n",
       "      <td>854</td>\n",
       "    </tr>\n",
       "    <tr>\n",
       "      <td>4</td>\n",
       "      <td>Home and lifestyle</td>\n",
       "      <td>911</td>\n",
       "    </tr>\n",
       "    <tr>\n",
       "      <td>5</td>\n",
       "      <td>Sports and travel</td>\n",
       "      <td>920</td>\n",
       "    </tr>\n",
       "  </tbody>\n",
       "</table>\n",
       "</div>"
      ],
      "text/plain": [
       "             Product line  Quantity\n",
       "0  Electronic accessories       971\n",
       "1     Fashion accessories       902\n",
       "2      Food and beverages       952\n",
       "3       Health and beauty       854\n",
       "4      Home and lifestyle       911\n",
       "5       Sports and travel       920"
      ]
     },
     "execution_count": 47,
     "metadata": {},
     "output_type": "execute_result"
    }
   ],
   "source": [
    "#[Write your Code Here]\n",
    "data2=df.groupby(['Product line'])['Quantity'].sum().reset_index()\n",
    "data2"
   ]
  },
  {
   "cell_type": "code",
   "execution_count": 48,
   "metadata": {},
   "outputs": [
    {
     "data": {
      "text/plain": [
       "Text(0.5, 1, 'Quantity demanded for each product line')"
      ]
     },
     "execution_count": 48,
     "metadata": {},
     "output_type": "execute_result"
    },
    {
     "data": {
      "text/plain": [
       "<Figure size 1152x1152 with 0 Axes>"
      ]
     },
     "metadata": {},
     "output_type": "display_data"
    },
    {
     "data": {
      "image/png": "[encoded data removed]",
      "text/plain": [
       "<Figure size 360x360 with 1 Axes>"
      ]
     },
     "metadata": {
      "needs_background": "light"
     },
     "output_type": "display_data"
    }
   ],
   "source": [
    "plt.figure(figsize=(16,16))\n",
    "sns.catplot(y='Product line',x='Quantity',data=data2,kind='point')\n",
    "plt.title('Quantity demanded for each product line')"
   ]
  },
  {
   "cell_type": "markdown",
   "metadata": {},
   "source": [
    "#### Insights from the above chart:\n",
    "*  It is seen that the product line that has the highest demand in terms of quantity is ***Electronic accessories***.\n",
    "* it is important to note that we cannot draw a conclusion until we see how the demand varies in the different branches of the supermarket"
   ]
  },
  {
   "cell_type": "markdown",
   "metadata": {},
   "source": [
    "## Step 7 - StandOut Section\n",
    "To make your submission standout, \n",
    "* You can continue to explore more insights that can be uncovered with different plotting methods.\n",
    "* Write a detailed summary on your approach, methods and insights. \n",
    "* Visit the [link](https://seaborn.pydata.org/tutorial/categorical.html) for more Seaborn visualization plots.\n"
   ]
  },
  {
   "cell_type": "markdown",
   "metadata": {},
   "source": [
    "### Checking how the Quantity(demand) varies with various branch"
   ]
  },
  {
   "cell_type": "code",
   "execution_count": 49,
   "metadata": {},
   "outputs": [
    {
     "data": {
      "text/html": [
       "<div>\n",
       "<style scoped>\n",
       "    .dataframe tbody tr th:only-of-type {\n",
       "        vertical-align: middle;\n",
       "    }\n",
       "\n",
       "    .dataframe tbody tr th {\n",
       "        vertical-align: top;\n",
       "    }\n",
       "\n",
       "    .dataframe thead th {\n",
       "        text-align: right;\n",
       "    }\n",
       "</style>\n",
       "<table border=\"1\" class=\"dataframe\">\n",
       "  <thead>\n",
       "    <tr style=\"text-align: right;\">\n",
       "      <th></th>\n",
       "      <th>Product line</th>\n",
       "      <th>Branch</th>\n",
       "      <th>Quantity</th>\n",
       "    </tr>\n",
       "  </thead>\n",
       "  <tbody>\n",
       "    <tr>\n",
       "      <td>0</td>\n",
       "      <td>Electronic accessories</td>\n",
       "      <td>A</td>\n",
       "      <td>322</td>\n",
       "    </tr>\n",
       "    <tr>\n",
       "      <td>1</td>\n",
       "      <td>Electronic accessories</td>\n",
       "      <td>B</td>\n",
       "      <td>316</td>\n",
       "    </tr>\n",
       "    <tr>\n",
       "      <td>2</td>\n",
       "      <td>Electronic accessories</td>\n",
       "      <td>C</td>\n",
       "      <td>333</td>\n",
       "    </tr>\n",
       "    <tr>\n",
       "      <td>3</td>\n",
       "      <td>Fashion accessories</td>\n",
       "      <td>A</td>\n",
       "      <td>263</td>\n",
       "    </tr>\n",
       "    <tr>\n",
       "      <td>4</td>\n",
       "      <td>Fashion accessories</td>\n",
       "      <td>B</td>\n",
       "      <td>297</td>\n",
       "    </tr>\n",
       "    <tr>\n",
       "      <td>5</td>\n",
       "      <td>Fashion accessories</td>\n",
       "      <td>C</td>\n",
       "      <td>342</td>\n",
       "    </tr>\n",
       "    <tr>\n",
       "      <td>6</td>\n",
       "      <td>Food and beverages</td>\n",
       "      <td>A</td>\n",
       "      <td>313</td>\n",
       "    </tr>\n",
       "    <tr>\n",
       "      <td>7</td>\n",
       "      <td>Food and beverages</td>\n",
       "      <td>B</td>\n",
       "      <td>270</td>\n",
       "    </tr>\n",
       "    <tr>\n",
       "      <td>8</td>\n",
       "      <td>Food and beverages</td>\n",
       "      <td>C</td>\n",
       "      <td>369</td>\n",
       "    </tr>\n",
       "    <tr>\n",
       "      <td>9</td>\n",
       "      <td>Health and beauty</td>\n",
       "      <td>A</td>\n",
       "      <td>257</td>\n",
       "    </tr>\n",
       "    <tr>\n",
       "      <td>10</td>\n",
       "      <td>Health and beauty</td>\n",
       "      <td>B</td>\n",
       "      <td>320</td>\n",
       "    </tr>\n",
       "    <tr>\n",
       "      <td>11</td>\n",
       "      <td>Health and beauty</td>\n",
       "      <td>C</td>\n",
       "      <td>277</td>\n",
       "    </tr>\n",
       "    <tr>\n",
       "      <td>12</td>\n",
       "      <td>Home and lifestyle</td>\n",
       "      <td>A</td>\n",
       "      <td>371</td>\n",
       "    </tr>\n",
       "    <tr>\n",
       "      <td>13</td>\n",
       "      <td>Home and lifestyle</td>\n",
       "      <td>B</td>\n",
       "      <td>295</td>\n",
       "    </tr>\n",
       "    <tr>\n",
       "      <td>14</td>\n",
       "      <td>Home and lifestyle</td>\n",
       "      <td>C</td>\n",
       "      <td>245</td>\n",
       "    </tr>\n",
       "    <tr>\n",
       "      <td>15</td>\n",
       "      <td>Sports and travel</td>\n",
       "      <td>A</td>\n",
       "      <td>333</td>\n",
       "    </tr>\n",
       "    <tr>\n",
       "      <td>16</td>\n",
       "      <td>Sports and travel</td>\n",
       "      <td>B</td>\n",
       "      <td>322</td>\n",
       "    </tr>\n",
       "    <tr>\n",
       "      <td>17</td>\n",
       "      <td>Sports and travel</td>\n",
       "      <td>C</td>\n",
       "      <td>265</td>\n",
       "    </tr>\n",
       "  </tbody>\n",
       "</table>\n",
       "</div>"
      ],
      "text/plain": [
       "              Product line Branch  Quantity\n",
       "0   Electronic accessories      A       322\n",
       "1   Electronic accessories      B       316\n",
       "2   Electronic accessories      C       333\n",
       "3      Fashion accessories      A       263\n",
       "4      Fashion accessories      B       297\n",
       "5      Fashion accessories      C       342\n",
       "6       Food and beverages      A       313\n",
       "7       Food and beverages      B       270\n",
       "8       Food and beverages      C       369\n",
       "9        Health and beauty      A       257\n",
       "10       Health and beauty      B       320\n",
       "11       Health and beauty      C       277\n",
       "12      Home and lifestyle      A       371\n",
       "13      Home and lifestyle      B       295\n",
       "14      Home and lifestyle      C       245\n",
       "15       Sports and travel      A       333\n",
       "16       Sports and travel      B       322\n",
       "17       Sports and travel      C       265"
      ]
     },
     "execution_count": 49,
     "metadata": {},
     "output_type": "execute_result"
    }
   ],
   "source": [
    "data3=df.groupby(['Product line','Branch'])['Quantity'].sum().reset_index()\n",
    "data3"
   ]
  },
  {
   "cell_type": "code",
   "execution_count": 50,
   "metadata": {},
   "outputs": [
    {
     "data": {
      "text/plain": [
       "Text(0.5, 1, 'Quantity demanded of each product line for the various branches')"
      ]
     },
     "execution_count": 50,
     "metadata": {},
     "output_type": "execute_result"
    },
    {
     "data": {
      "text/plain": [
       "<Figure size 1152x1152 with 0 Axes>"
      ]
     },
     "metadata": {},
     "output_type": "display_data"
    },
    {
     "data": {
      "image/png": "[encoded data removed]",
      "text/plain": [
       "<Figure size 1080x360 with 3 Axes>"
      ]
     },
     "metadata": {
      "needs_background": "light"
     },
     "output_type": "display_data"
    }
   ],
   "source": [
    "plt.figure(figsize=(16,16))\n",
    "sns.catplot(y='Product line',x='Quantity',col='Branch',data=data3,kind='point')\n",
    "plt.title('Quantity demanded of each product line for the various branches')\n"
   ]
  },
  {
   "cell_type": "markdown",
   "metadata": {},
   "source": [
    "After dividig the plots into 3 branches, it is observed that the trends vary accoridng to the branches.If we had concluded on the information from the previous chart where the branches were not included, then we would be making a big mistake. The plots show that to really understand the dataset, we sould not ignore the categories and try to study the trends by categories(branch) and see why the trends go in the direction in which they go\n",
    "\n",
    "#### Insights from the above chart\n",
    "\n",
    "* from the plot, **home and lifestyle** has the highest demand in Branch A, **health and beauty** has the highest demand in Branch B and finally for Branch C, the product line with the highest demand is **Food and Beverages**\n",
    "\n",
    "* No 3 product lines are the same for the 3 branches\n",
    "\n",
    "* The varying difference in demand in various branches indicates differences in general taste and preference of the people in that region\n",
    "\n"
   ]
  },
  {
   "cell_type": "markdown",
   "metadata": {},
   "source": [
    "### Bi-variate Analysis\n",
    "#### Let's check if there's a relationship between **Unit Price** and **Quantity** using scatterplot"
   ]
  },
  {
   "cell_type": "code",
   "execution_count": 51,
   "metadata": {},
   "outputs": [
    {
     "data": {
      "image/png": "[encoded data removed]",
      "text/plain": [
       "<Figure size 720x432 with 1 Axes>"
      ]
     },
     "metadata": {
      "needs_background": "light"
     },
     "output_type": "display_data"
    }
   ],
   "source": [
    "plt.figure(figsize=(10,6))\n",
    "sns.scatterplot(x=df['Unit price'],y=df['Quantity'])\n",
    "plt.title('scatterplot of quantity agaist unit price');"
   ]
  },
  {
   "cell_type": "markdown",
   "metadata": {},
   "source": [
    "### Insights From the Scatterplot\n",
    "\n",
    "* There's obviously no relationship between **Quantity** and **Unit price**"
   ]
  },
  {
   "cell_type": "markdown",
   "metadata": {},
   "source": [
    "### Next, Let's check how the payment type and the Total amount spent by each buyer varies with Branches"
   ]
  },
  {
   "cell_type": "code",
   "execution_count": 52,
   "metadata": {},
   "outputs": [
    {
     "data": {
      "text/html": [
       "<div>\n",
       "<style scoped>\n",
       "    .dataframe tbody tr th:only-of-type {\n",
       "        vertical-align: middle;\n",
       "    }\n",
       "\n",
       "    .dataframe tbody tr th {\n",
       "        vertical-align: top;\n",
       "    }\n",
       "\n",
       "    .dataframe thead th {\n",
       "        text-align: right;\n",
       "    }\n",
       "</style>\n",
       "<table border=\"1\" class=\"dataframe\">\n",
       "  <thead>\n",
       "    <tr style=\"text-align: right;\">\n",
       "      <th></th>\n",
       "      <th>Payment</th>\n",
       "      <th>Branch</th>\n",
       "      <th>sum</th>\n",
       "      <th>Quantity</th>\n",
       "    </tr>\n",
       "  </thead>\n",
       "  <tbody>\n",
       "    <tr>\n",
       "      <td>0</td>\n",
       "      <td>Card</td>\n",
       "      <td>A</td>\n",
       "      <td>11914110.18</td>\n",
       "      <td>580</td>\n",
       "    </tr>\n",
       "    <tr>\n",
       "      <td>1</td>\n",
       "      <td>Card</td>\n",
       "      <td>B</td>\n",
       "      <td>13444148.34</td>\n",
       "      <td>599</td>\n",
       "    </tr>\n",
       "    <tr>\n",
       "      <td>2</td>\n",
       "      <td>Card</td>\n",
       "      <td>C</td>\n",
       "      <td>10917887.40</td>\n",
       "      <td>543</td>\n",
       "    </tr>\n",
       "    <tr>\n",
       "      <td>3</td>\n",
       "      <td>Cash</td>\n",
       "      <td>A</td>\n",
       "      <td>12161250.36</td>\n",
       "      <td>572</td>\n",
       "    </tr>\n",
       "    <tr>\n",
       "      <td>4</td>\n",
       "      <td>Cash</td>\n",
       "      <td>B</td>\n",
       "      <td>12722206.14</td>\n",
       "      <td>628</td>\n",
       "    </tr>\n",
       "    <tr>\n",
       "      <td>5</td>\n",
       "      <td>Cash</td>\n",
       "      <td>C</td>\n",
       "      <td>15510908.70</td>\n",
       "      <td>696</td>\n",
       "    </tr>\n",
       "    <tr>\n",
       "      <td>6</td>\n",
       "      <td>Epay</td>\n",
       "      <td>A</td>\n",
       "      <td>14156772.84</td>\n",
       "      <td>707</td>\n",
       "    </tr>\n",
       "    <tr>\n",
       "      <td>7</td>\n",
       "      <td>Epay</td>\n",
       "      <td>B</td>\n",
       "      <td>12064807.44</td>\n",
       "      <td>593</td>\n",
       "    </tr>\n",
       "    <tr>\n",
       "      <td>8</td>\n",
       "      <td>Epay</td>\n",
       "      <td>C</td>\n",
       "      <td>13375938.24</td>\n",
       "      <td>592</td>\n",
       "    </tr>\n",
       "  </tbody>\n",
       "</table>\n",
       "</div>"
      ],
      "text/plain": [
       "  Payment Branch          sum  Quantity\n",
       "0    Card      A  11914110.18       580\n",
       "1    Card      B  13444148.34       599\n",
       "2    Card      C  10917887.40       543\n",
       "3    Cash      A  12161250.36       572\n",
       "4    Cash      B  12722206.14       628\n",
       "5    Cash      C  15510908.70       696\n",
       "6    Epay      A  14156772.84       707\n",
       "7    Epay      B  12064807.44       593\n",
       "8    Epay      C  13375938.24       592"
      ]
     },
     "execution_count": 52,
     "metadata": {},
     "output_type": "execute_result"
    }
   ],
   "source": [
    "data4=df.groupby(['Payment','Branch'])['Total'].agg([sum]).reset_index()\n",
    "data4['Quantity']=df.groupby(['Payment','Branch'])['Quantity'].sum().reset_index().Quantity\n",
    "data4\n",
    "\n"
   ]
  },
  {
   "cell_type": "code",
   "execution_count": 53,
   "metadata": {},
   "outputs": [
    {
     "data": {
      "text/plain": [
       "Text(0.5, 1, 'Payment type used by customer for each branch')"
      ]
     },
     "execution_count": 53,
     "metadata": {},
     "output_type": "execute_result"
    },
    {
     "data": {
      "image/png": "[encoded data removed]",
      "text/plain": [
       "<Figure size 1080x360 with 3 Axes>"
      ]
     },
     "metadata": {
      "needs_background": "light"
     },
     "output_type": "display_data"
    }
   ],
   "source": [
    "sns.catplot(x='Payment',y='sum',col='Branch',kind='bar',data=data4,palette='Accent_r')\n",
    "sns.set_style('whitegrid')\n",
    "plt.title('Payment type used by customer for each branch')"
   ]
  },
  {
   "cell_type": "markdown",
   "metadata": {},
   "source": [
    "### Insights deduced\n",
    "* From the bar-plot, it is seen that for branch A, it is the Epay users that has the predominat payment type while for branch \n",
    "B it is the card users and finally for Branch C, it is the people who pay in Cash that has the highest payment method."
   ]
  },
  {
   "cell_type": "markdown",
   "metadata": {},
   "source": [
    "### Customer Type Analysis"
   ]
  },
  {
   "cell_type": "code",
   "execution_count": 54,
   "metadata": {},
   "outputs": [
    {
     "data": {
      "text/html": [
       "<div>\n",
       "<style scoped>\n",
       "    .dataframe tbody tr th:only-of-type {\n",
       "        vertical-align: middle;\n",
       "    }\n",
       "\n",
       "    .dataframe tbody tr th {\n",
       "        vertical-align: top;\n",
       "    }\n",
       "\n",
       "    .dataframe thead th {\n",
       "        text-align: right;\n",
       "    }\n",
       "</style>\n",
       "<table border=\"1\" class=\"dataframe\">\n",
       "  <thead>\n",
       "    <tr style=\"text-align: right;\">\n",
       "      <th></th>\n",
       "      <th>Customer type</th>\n",
       "      <th>Payment</th>\n",
       "      <th>Total</th>\n",
       "    </tr>\n",
       "  </thead>\n",
       "  <tbody>\n",
       "    <tr>\n",
       "      <td>5</td>\n",
       "      <td>Normal</td>\n",
       "      <td>Epay</td>\n",
       "      <td>20952774.36</td>\n",
       "    </tr>\n",
       "    <tr>\n",
       "      <td>0</td>\n",
       "      <td>Member</td>\n",
       "      <td>Card</td>\n",
       "      <td>20797730.10</td>\n",
       "    </tr>\n",
       "    <tr>\n",
       "      <td>4</td>\n",
       "      <td>Normal</td>\n",
       "      <td>Cash</td>\n",
       "      <td>20716399.62</td>\n",
       "    </tr>\n",
       "    <tr>\n",
       "      <td>1</td>\n",
       "      <td>Member</td>\n",
       "      <td>Cash</td>\n",
       "      <td>19677965.58</td>\n",
       "    </tr>\n",
       "    <tr>\n",
       "      <td>2</td>\n",
       "      <td>Member</td>\n",
       "      <td>Epay</td>\n",
       "      <td>18644744.16</td>\n",
       "    </tr>\n",
       "    <tr>\n",
       "      <td>3</td>\n",
       "      <td>Normal</td>\n",
       "      <td>Card</td>\n",
       "      <td>15478415.82</td>\n",
       "    </tr>\n",
       "  </tbody>\n",
       "</table>\n",
       "</div>"
      ],
      "text/plain": [
       "  Customer type Payment        Total\n",
       "5        Normal    Epay  20952774.36\n",
       "0        Member    Card  20797730.10\n",
       "4        Normal    Cash  20716399.62\n",
       "1        Member    Cash  19677965.58\n",
       "2        Member    Epay  18644744.16\n",
       "3        Normal    Card  15478415.82"
      ]
     },
     "execution_count": 54,
     "metadata": {},
     "output_type": "execute_result"
    }
   ],
   "source": [
    "customer=df.groupby(['Customer type','Payment'])['Total'].sum().reset_index().sort_values(by='Total',ascending=False)\n",
    "customer"
   ]
  },
  {
   "cell_type": "code",
   "execution_count": 55,
   "metadata": {},
   "outputs": [
    {
     "data": {
      "image/png": "[encoded data removed]",
      "text/plain": [
       "<Figure size 720x576 with 1 Axes>"
      ]
     },
     "metadata": {},
     "output_type": "display_data"
    }
   ],
   "source": [
    "fig,ax=plt.subplots(figsize=(10,8))\n",
    "ax=sns.barplot(x='Customer type',y='Total',hue='Payment',data=customer)\n",
    "ax.set(title='bar plot of customer type vs Total payment made');"
   ]
  },
  {
   "cell_type": "code",
   "execution_count": 56,
   "metadata": {},
   "outputs": [
    {
     "data": {
      "text/plain": [
       "<Figure size 720x576 with 0 Axes>"
      ]
     },
     "metadata": {},
     "output_type": "display_data"
    },
    {
     "data": {
      "image/png": "[encoded data removed]",
      "text/plain": [
       "<Figure size 1139.38x360 with 3 Axes>"
      ]
     },
     "metadata": {},
     "output_type": "display_data"
    },
    {
     "data": {
      "text/plain": [
       "<Figure size 720x576 with 0 Axes>"
      ]
     },
     "metadata": {},
     "output_type": "display_data"
    },
    {
     "data": {
      "image/png": "[encoded data removed]",
      "text/plain": [
       "<Figure size 1080x360 with 3 Axes>"
      ]
     },
     "metadata": {},
     "output_type": "display_data"
    }
   ],
   "source": [
    "customer2=df.groupby(['Customer type','Payment','Branch'])['Total'].sum().reset_index().sort_values(by='Total',ascending=False)\n",
    "\n",
    "for hue in ['Payment',None]:\n",
    "    plt.figure(figsize=(10,8))\n",
    "    sns.catplot(x='Customer type',y='Total',hue=hue,col='Branch',kind='bar',data=customer2)\n",
    "    plt.title('Variation of customer type with payment in various branches');"
   ]
  },
  {
   "cell_type": "markdown",
   "metadata": {},
   "source": [
    "### Insights Deduced\n",
    "* in all 3 branches, each customer type seem to have a slight difference in the overall contribution to the cash flow.Breaking them down\n",
    "into the payment types for each customer type,one can see the payment type that is more predominant for all 3 branches."
   ]
  },
  {
   "cell_type": "markdown",
   "metadata": {},
   "source": [
    "## Step 8 - Documentation.\n",
    "\n",
    "* Write a detailed `ReadMe` that describes the project, explains important approach you followed to solve the tasks. Find a template in the starter file that can get you started quickly. Note: Do limit yourself to the template, you can include any interesting step that is worth sharing. \n",
    "* Write an Executive summary that you can present to `Company XYZ` management. The summary will explain your processes and insights you uncovered that can help the company "
   ]
  },
  {
   "cell_type": "code",
   "execution_count": null,
   "metadata": {},
   "outputs": [],
   "source": []
  }
 ],
 "metadata": {
  "kernelspec": {
   "display_name": "Python 3",
   "language": "python",
   "name": "python3"
  },
  "language_info": {
   "codemirror_mode": {
    "name": "ipython",
    "version": 3
   },
   "file_extension": ".py",
   "mimetype": "text/x-python",
   "name": "python",
   "nbconvert_exporter": "python",
   "pygments_lexer": "ipython3",
   "version": "3.7.4"
  }
 },
 "nbformat": 4,
 "nbformat_minor": 4
}
